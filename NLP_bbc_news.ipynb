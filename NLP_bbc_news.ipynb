{
  "nbformat": 4,
  "nbformat_minor": 0,
  "metadata": {
    "colab": {
      "name": "NLP-bbc_news.ipynb",
      "provenance": [],
      "collapsed_sections": [
        "UMyNGYU4aAvW"
      ]
    },
    "kernelspec": {
      "name": "python3",
      "display_name": "Python 3"
    },
    "language_info": {
      "name": "python"
    },
    "accelerator": "GPU"
  },
  "cells": [
    {
      "cell_type": "markdown",
      "metadata": {
        "id": "O4284jswZ94F"
      },
      "source": [
        "# Proyek Pertama : Membuat Model NLP dengan TensorFlow\n",
        "\n",
        "---\n",
        "\n"
      ]
    },
    {
      "cell_type": "markdown",
      "metadata": {
        "id": "pJ2-8htaaHP6"
      },
      "source": [
        "Nama: Kemal Adam Roisy\n",
        "\n",
        "Email: kemal.adam@sci.ui.ac.id\n",
        "\n",
        "Kelas: Belajar Pengembangan Machine Learning\n"
      ]
    },
    {
      "cell_type": "markdown",
      "metadata": {
        "id": "UMyNGYU4aAvW"
      },
      "source": [
        "## Kriteria Submission\n"
      ]
    },
    {
      "cell_type": "markdown",
      "metadata": {
        "id": "8SQRp54DaPFb"
      },
      "source": [
        "\n",
        "1.   Dataset yang akan dipakai bebas, namun minimal memiliki 1000 sampel.\n",
        "2.   Harus menggunakan LSTM dalam arsitektur model.\n",
        "3.   Harus menggunakan model sequential.\n",
        "4.   Validation set sebesar 20% dari total dataset.\n",
        "5.   Harus menggunakan Embedding.\n",
        "6.   Harus menggunakan fungsi tokenizer.\n",
        "7.   Akurasi dari model minimal 75%."
      ]
    },
    {
      "cell_type": "markdown",
      "metadata": {
        "id": "qZYfQmCEaWOD"
      },
      "source": [
        "# Import Data dari kaggle"
      ]
    },
    {
      "cell_type": "markdown",
      "metadata": {
        "id": "4vjHxPzBae3t"
      },
      "source": [
        "Data Source: Kaggle BBC articles fulltext and category\n",
        "\n",
        "url: https://www.kaggle.com/yufengdev/bbc-fulltext-and-category"
      ]
    },
    {
      "cell_type": "code",
      "metadata": {
        "id": "_Xtd2C9Cp2e3"
      },
      "source": [
        "# Install kaggle package to use API\n",
        "!pip install -q kaggle"
      ],
      "execution_count": 1,
      "outputs": []
    },
    {
      "cell_type": "code",
      "metadata": {
        "colab": {
          "resources": {
            "http://localhost:8080/nbextensions/google.colab/files.js": {
              "data": "Ly8gQ29weXJpZ2h0IDIwMTcgR29vZ2xlIExMQwovLwovLyBMaWNlbnNlZCB1bmRlciB0aGUgQXBhY2hlIExpY2Vuc2UsIFZlcnNpb24gMi4wICh0aGUgIkxpY2Vuc2UiKTsKLy8geW91IG1heSBub3QgdXNlIHRoaXMgZmlsZSBleGNlcHQgaW4gY29tcGxpYW5jZSB3aXRoIHRoZSBMaWNlbnNlLgovLyBZb3UgbWF5IG9idGFpbiBhIGNvcHkgb2YgdGhlIExpY2Vuc2UgYXQKLy8KLy8gICAgICBodHRwOi8vd3d3LmFwYWNoZS5vcmcvbGljZW5zZXMvTElDRU5TRS0yLjAKLy8KLy8gVW5sZXNzIHJlcXVpcmVkIGJ5IGFwcGxpY2FibGUgbGF3IG9yIGFncmVlZCB0byBpbiB3cml0aW5nLCBzb2Z0d2FyZQovLyBkaXN0cmlidXRlZCB1bmRlciB0aGUgTGljZW5zZSBpcyBkaXN0cmlidXRlZCBvbiBhbiAiQVMgSVMiIEJBU0lTLAovLyBXSVRIT1VUIFdBUlJBTlRJRVMgT1IgQ09ORElUSU9OUyBPRiBBTlkgS0lORCwgZWl0aGVyIGV4cHJlc3Mgb3IgaW1wbGllZC4KLy8gU2VlIHRoZSBMaWNlbnNlIGZvciB0aGUgc3BlY2lmaWMgbGFuZ3VhZ2UgZ292ZXJuaW5nIHBlcm1pc3Npb25zIGFuZAovLyBsaW1pdGF0aW9ucyB1bmRlciB0aGUgTGljZW5zZS4KCi8qKgogKiBAZmlsZW92ZXJ2aWV3IEhlbHBlcnMgZm9yIGdvb2dsZS5jb2xhYiBQeXRob24gbW9kdWxlLgogKi8KKGZ1bmN0aW9uKHNjb3BlKSB7CmZ1bmN0aW9uIHNwYW4odGV4dCwgc3R5bGVBdHRyaWJ1dGVzID0ge30pIHsKICBjb25zdCBlbGVtZW50ID0gZG9jdW1lbnQuY3JlYXRlRWxlbWVudCgnc3BhbicpOwogIGVsZW1lbnQudGV4dENvbnRlbnQgPSB0ZXh0OwogIGZvciAoY29uc3Qga2V5IG9mIE9iamVjdC5rZXlzKHN0eWxlQXR0cmlidXRlcykpIHsKICAgIGVsZW1lbnQuc3R5bGVba2V5XSA9IHN0eWxlQXR0cmlidXRlc1trZXldOwogIH0KICByZXR1cm4gZWxlbWVudDsKfQoKLy8gTWF4IG51bWJlciBvZiBieXRlcyB3aGljaCB3aWxsIGJlIHVwbG9hZGVkIGF0IGEgdGltZS4KY29uc3QgTUFYX1BBWUxPQURfU0laRSA9IDEwMCAqIDEwMjQ7CgpmdW5jdGlvbiBfdXBsb2FkRmlsZXMoaW5wdXRJZCwgb3V0cHV0SWQpIHsKICBjb25zdCBzdGVwcyA9IHVwbG9hZEZpbGVzU3RlcChpbnB1dElkLCBvdXRwdXRJZCk7CiAgY29uc3Qgb3V0cHV0RWxlbWVudCA9IGRvY3VtZW50LmdldEVsZW1lbnRCeUlkKG91dHB1dElkKTsKICAvLyBDYWNoZSBzdGVwcyBvbiB0aGUgb3V0cHV0RWxlbWVudCB0byBtYWtlIGl0IGF2YWlsYWJsZSBmb3IgdGhlIG5leHQgY2FsbAogIC8vIHRvIHVwbG9hZEZpbGVzQ29udGludWUgZnJvbSBQeXRob24uCiAgb3V0cHV0RWxlbWVudC5zdGVwcyA9IHN0ZXBzOwoKICByZXR1cm4gX3VwbG9hZEZpbGVzQ29udGludWUob3V0cHV0SWQpOwp9CgovLyBUaGlzIGlzIHJvdWdobHkgYW4gYXN5bmMgZ2VuZXJhdG9yIChub3Qgc3VwcG9ydGVkIGluIHRoZSBicm93c2VyIHlldCksCi8vIHdoZXJlIHRoZXJlIGFyZSBtdWx0aXBsZSBhc3luY2hyb25vdXMgc3RlcHMgYW5kIHRoZSBQeXRob24gc2lkZSBpcyBnb2luZwovLyB0byBwb2xsIGZvciBjb21wbGV0aW9uIG9mIGVhY2ggc3RlcC4KLy8gVGhpcyB1c2VzIGEgUHJvbWlzZSB0byBibG9jayB0aGUgcHl0aG9uIHNpZGUgb24gY29tcGxldGlvbiBvZiBlYWNoIHN0ZXAsCi8vIHRoZW4gcGFzc2VzIHRoZSByZXN1bHQgb2YgdGhlIHByZXZpb3VzIHN0ZXAgYXMgdGhlIGlucHV0IHRvIHRoZSBuZXh0IHN0ZXAuCmZ1bmN0aW9uIF91cGxvYWRGaWxlc0NvbnRpbnVlKG91dHB1dElkKSB7CiAgY29uc3Qgb3V0cHV0RWxlbWVudCA9IGRvY3VtZW50LmdldEVsZW1lbnRCeUlkKG91dHB1dElkKTsKICBjb25zdCBzdGVwcyA9IG91dHB1dEVsZW1lbnQuc3RlcHM7CgogIGNvbnN0IG5leHQgPSBzdGVwcy5uZXh0KG91dHB1dEVsZW1lbnQubGFzdFByb21pc2VWYWx1ZSk7CiAgcmV0dXJuIFByb21pc2UucmVzb2x2ZShuZXh0LnZhbHVlLnByb21pc2UpLnRoZW4oKHZhbHVlKSA9PiB7CiAgICAvLyBDYWNoZSB0aGUgbGFzdCBwcm9taXNlIHZhbHVlIHRvIG1ha2UgaXQgYXZhaWxhYmxlIHRvIHRoZSBuZXh0CiAgICAvLyBzdGVwIG9mIHRoZSBnZW5lcmF0b3IuCiAgICBvdXRwdXRFbGVtZW50Lmxhc3RQcm9taXNlVmFsdWUgPSB2YWx1ZTsKICAgIHJldHVybiBuZXh0LnZhbHVlLnJlc3BvbnNlOwogIH0pOwp9CgovKioKICogR2VuZXJhdG9yIGZ1bmN0aW9uIHdoaWNoIGlzIGNhbGxlZCBiZXR3ZWVuIGVhY2ggYXN5bmMgc3RlcCBvZiB0aGUgdXBsb2FkCiAqIHByb2Nlc3MuCiAqIEBwYXJhbSB7c3RyaW5nfSBpbnB1dElkIEVsZW1lbnQgSUQgb2YgdGhlIGlucHV0IGZpbGUgcGlja2VyIGVsZW1lbnQuCiAqIEBwYXJhbSB7c3RyaW5nfSBvdXRwdXRJZCBFbGVtZW50IElEIG9mIHRoZSBvdXRwdXQgZGlzcGxheS4KICogQHJldHVybiB7IUl0ZXJhYmxlPCFPYmplY3Q+fSBJdGVyYWJsZSBvZiBuZXh0IHN0ZXBzLgogKi8KZnVuY3Rpb24qIHVwbG9hZEZpbGVzU3RlcChpbnB1dElkLCBvdXRwdXRJZCkgewogIGNvbnN0IGlucHV0RWxlbWVudCA9IGRvY3VtZW50LmdldEVsZW1lbnRCeUlkKGlucHV0SWQpOwogIGlucHV0RWxlbWVudC5kaXNhYmxlZCA9IGZhbHNlOwoKICBjb25zdCBvdXRwdXRFbGVtZW50ID0gZG9jdW1lbnQuZ2V0RWxlbWVudEJ5SWQob3V0cHV0SWQpOwogIG91dHB1dEVsZW1lbnQuaW5uZXJIVE1MID0gJyc7CgogIGNvbnN0IHBpY2tlZFByb21pc2UgPSBuZXcgUHJvbWlzZSgocmVzb2x2ZSkgPT4gewogICAgaW5wdXRFbGVtZW50LmFkZEV2ZW50TGlzdGVuZXIoJ2NoYW5nZScsIChlKSA9PiB7CiAgICAgIHJlc29sdmUoZS50YXJnZXQuZmlsZXMpOwogICAgfSk7CiAgfSk7CgogIGNvbnN0IGNhbmNlbCA9IGRvY3VtZW50LmNyZWF0ZUVsZW1lbnQoJ2J1dHRvbicpOwogIGlucHV0RWxlbWVudC5wYXJlbnRFbGVtZW50LmFwcGVuZENoaWxkKGNhbmNlbCk7CiAgY2FuY2VsLnRleHRDb250ZW50ID0gJ0NhbmNlbCB1cGxvYWQnOwogIGNvbnN0IGNhbmNlbFByb21pc2UgPSBuZXcgUHJvbWlzZSgocmVzb2x2ZSkgPT4gewogICAgY2FuY2VsLm9uY2xpY2sgPSAoKSA9PiB7CiAgICAgIHJlc29sdmUobnVsbCk7CiAgICB9OwogIH0pOwoKICAvLyBXYWl0IGZvciB0aGUgdXNlciB0byBwaWNrIHRoZSBmaWxlcy4KICBjb25zdCBmaWxlcyA9IHlpZWxkIHsKICAgIHByb21pc2U6IFByb21pc2UucmFjZShbcGlja2VkUHJvbWlzZSwgY2FuY2VsUHJvbWlzZV0pLAogICAgcmVzcG9uc2U6IHsKICAgICAgYWN0aW9uOiAnc3RhcnRpbmcnLAogICAgfQogIH07CgogIGNhbmNlbC5yZW1vdmUoKTsKCiAgLy8gRGlzYWJsZSB0aGUgaW5wdXQgZWxlbWVudCBzaW5jZSBmdXJ0aGVyIHBpY2tzIGFyZSBub3QgYWxsb3dlZC4KICBpbnB1dEVsZW1lbnQuZGlzYWJsZWQgPSB0cnVlOwoKICBpZiAoIWZpbGVzKSB7CiAgICByZXR1cm4gewogICAgICByZXNwb25zZTogewogICAgICAgIGFjdGlvbjogJ2NvbXBsZXRlJywKICAgICAgfQogICAgfTsKICB9CgogIGZvciAoY29uc3QgZmlsZSBvZiBmaWxlcykgewogICAgY29uc3QgbGkgPSBkb2N1bWVudC5jcmVhdGVFbGVtZW50KCdsaScpOwogICAgbGkuYXBwZW5kKHNwYW4oZmlsZS5uYW1lLCB7Zm9udFdlaWdodDogJ2JvbGQnfSkpOwogICAgbGkuYXBwZW5kKHNwYW4oCiAgICAgICAgYCgke2ZpbGUudHlwZSB8fCAnbi9hJ30pIC0gJHtmaWxlLnNpemV9IGJ5dGVzLCBgICsKICAgICAgICBgbGFzdCBtb2RpZmllZDogJHsKICAgICAgICAgICAgZmlsZS5sYXN0TW9kaWZpZWREYXRlID8gZmlsZS5sYXN0TW9kaWZpZWREYXRlLnRvTG9jYWxlRGF0ZVN0cmluZygpIDoKICAgICAgICAgICAgICAgICAgICAgICAgICAgICAgICAgICAgJ24vYSd9IC0gYCkpOwogICAgY29uc3QgcGVyY2VudCA9IHNwYW4oJzAlIGRvbmUnKTsKICAgIGxpLmFwcGVuZENoaWxkKHBlcmNlbnQpOwoKICAgIG91dHB1dEVsZW1lbnQuYXBwZW5kQ2hpbGQobGkpOwoKICAgIGNvbnN0IGZpbGVEYXRhUHJvbWlzZSA9IG5ldyBQcm9taXNlKChyZXNvbHZlKSA9PiB7CiAgICAgIGNvbnN0IHJlYWRlciA9IG5ldyBGaWxlUmVhZGVyKCk7CiAgICAgIHJlYWRlci5vbmxvYWQgPSAoZSkgPT4gewogICAgICAgIHJlc29sdmUoZS50YXJnZXQucmVzdWx0KTsKICAgICAgfTsKICAgICAgcmVhZGVyLnJlYWRBc0FycmF5QnVmZmVyKGZpbGUpOwogICAgfSk7CiAgICAvLyBXYWl0IGZvciB0aGUgZGF0YSB0byBiZSByZWFkeS4KICAgIGxldCBmaWxlRGF0YSA9IHlpZWxkIHsKICAgICAgcHJvbWlzZTogZmlsZURhdGFQcm9taXNlLAogICAgICByZXNwb25zZTogewogICAgICAgIGFjdGlvbjogJ2NvbnRpbnVlJywKICAgICAgfQogICAgfTsKCiAgICAvLyBVc2UgYSBjaHVua2VkIHNlbmRpbmcgdG8gYXZvaWQgbWVzc2FnZSBzaXplIGxpbWl0cy4gU2VlIGIvNjIxMTU2NjAuCiAgICBsZXQgcG9zaXRpb24gPSAwOwogICAgZG8gewogICAgICBjb25zdCBsZW5ndGggPSBNYXRoLm1pbihmaWxlRGF0YS5ieXRlTGVuZ3RoIC0gcG9zaXRpb24sIE1BWF9QQVlMT0FEX1NJWkUpOwogICAgICBjb25zdCBjaHVuayA9IG5ldyBVaW50OEFycmF5KGZpbGVEYXRhLCBwb3NpdGlvbiwgbGVuZ3RoKTsKICAgICAgcG9zaXRpb24gKz0gbGVuZ3RoOwoKICAgICAgY29uc3QgYmFzZTY0ID0gYnRvYShTdHJpbmcuZnJvbUNoYXJDb2RlLmFwcGx5KG51bGwsIGNodW5rKSk7CiAgICAgIHlpZWxkIHsKICAgICAgICByZXNwb25zZTogewogICAgICAgICAgYWN0aW9uOiAnYXBwZW5kJywKICAgICAgICAgIGZpbGU6IGZpbGUubmFtZSwKICAgICAgICAgIGRhdGE6IGJhc2U2NCwKICAgICAgICB9LAogICAgICB9OwoKICAgICAgbGV0IHBlcmNlbnREb25lID0gZmlsZURhdGEuYnl0ZUxlbmd0aCA9PT0gMCA/CiAgICAgICAgICAxMDAgOgogICAgICAgICAgTWF0aC5yb3VuZCgocG9zaXRpb24gLyBmaWxlRGF0YS5ieXRlTGVuZ3RoKSAqIDEwMCk7CiAgICAgIHBlcmNlbnQudGV4dENvbnRlbnQgPSBgJHtwZXJjZW50RG9uZX0lIGRvbmVgOwoKICAgIH0gd2hpbGUgKHBvc2l0aW9uIDwgZmlsZURhdGEuYnl0ZUxlbmd0aCk7CiAgfQoKICAvLyBBbGwgZG9uZS4KICB5aWVsZCB7CiAgICByZXNwb25zZTogewogICAgICBhY3Rpb246ICdjb21wbGV0ZScsCiAgICB9CiAgfTsKfQoKc2NvcGUuZ29vZ2xlID0gc2NvcGUuZ29vZ2xlIHx8IHt9OwpzY29wZS5nb29nbGUuY29sYWIgPSBzY29wZS5nb29nbGUuY29sYWIgfHwge307CnNjb3BlLmdvb2dsZS5jb2xhYi5fZmlsZXMgPSB7CiAgX3VwbG9hZEZpbGVzLAogIF91cGxvYWRGaWxlc0NvbnRpbnVlLAp9Owp9KShzZWxmKTsK",
              "ok": true,
              "headers": [
                [
                  "content-type",
                  "application/javascript"
                ]
              ],
              "status": 200,
              "status_text": ""
            }
          },
          "base_uri": "https://localhost:8080/",
          "height": 91
        },
        "id": "k7zKlqFbp96O",
        "outputId": "0dde43f2-3ff4-480a-bc16-5d0e806152cf"
      },
      "source": [
        "# Upload kaggle.json API Token\n",
        "from google.colab import files\n",
        "files.upload()"
      ],
      "execution_count": 2,
      "outputs": [
        {
          "output_type": "display_data",
          "data": {
            "text/html": [
              "\n",
              "     <input type=\"file\" id=\"files-a7324be7-8b31-4472-9faa-2920a3d84b29\" name=\"files[]\" multiple disabled\n",
              "        style=\"border:none\" />\n",
              "     <output id=\"result-a7324be7-8b31-4472-9faa-2920a3d84b29\">\n",
              "      Upload widget is only available when the cell has been executed in the\n",
              "      current browser session. Please rerun this cell to enable.\n",
              "      </output>\n",
              "      <script src=\"/nbextensions/google.colab/files.js\"></script> "
            ],
            "text/plain": [
              "<IPython.core.display.HTML object>"
            ]
          },
          "metadata": {
            "tags": []
          }
        },
        {
          "output_type": "stream",
          "text": [
            "Saving kaggle.json to kaggle.json\n"
          ],
          "name": "stdout"
        },
        {
          "output_type": "execute_result",
          "data": {
            "text/plain": [
              "{'kaggle.json': b'{\"username\":\"kemaladamr\",\"key\":\"315f8636beaccfe56af5b9fe74bdbfb2\"}'}"
            ]
          },
          "metadata": {
            "tags": []
          },
          "execution_count": 2
        }
      ]
    },
    {
      "cell_type": "code",
      "metadata": {
        "id": "j2Vk2zacqAOn"
      },
      "source": [
        "!mkdir ~/.kaggle\n",
        "!cp kaggle.json ~/.kaggle/\n",
        "!chmod 600 ~/.kaggle/kaggle.json"
      ],
      "execution_count": 3,
      "outputs": []
    },
    {
      "cell_type": "code",
      "metadata": {
        "colab": {
          "base_uri": "https://localhost:8080/"
        },
        "id": "kXu-8kOIqCCc",
        "outputId": "2757a57e-95ad-4ab6-bd89-6d483c44bb88"
      },
      "source": [
        "!kaggle datasets download -d yufengdev/bbc-fulltext-and-category"
      ],
      "execution_count": 4,
      "outputs": [
        {
          "output_type": "stream",
          "text": [
            "Downloading bbc-fulltext-and-category.zip to /content\n",
            "\r  0% 0.00/1.83M [00:00<?, ?B/s]\n",
            "\r100% 1.83M/1.83M [00:00<00:00, 60.5MB/s]\n"
          ],
          "name": "stdout"
        }
      ]
    },
    {
      "cell_type": "code",
      "metadata": {
        "colab": {
          "base_uri": "https://localhost:8080/"
        },
        "id": "QjPYXP1kqFd5",
        "outputId": "4f447e2c-9b29-49a4-a3bb-208a0b6e126f"
      },
      "source": [
        "!mkdir bbc\n",
        "!unzip bbc-fulltext-and-category.zip -d bbc\n",
        "!ls bbc"
      ],
      "execution_count": 5,
      "outputs": [
        {
          "output_type": "stream",
          "text": [
            "Archive:  bbc-fulltext-and-category.zip\n",
            "  inflating: bbc/bbc-text.csv        \n",
            "bbc-text.csv\n"
          ],
          "name": "stdout"
        }
      ]
    },
    {
      "cell_type": "markdown",
      "metadata": {
        "id": "IEkqlLamqRKR"
      },
      "source": [
        "# Import library dan depedencies"
      ]
    },
    {
      "cell_type": "code",
      "metadata": {
        "id": "91O-mlc6qOk5"
      },
      "source": [
        "import pandas as pd\n",
        "import re\n",
        "# import numpy as np\n",
        "\n",
        "import nltk\n",
        "from nltk.corpus import stopwords\n",
        "from nltk.stem import WordNetLemmatizer\n",
        "from string import punctuation\n",
        "\n",
        "from sklearn.model_selection import train_test_split\n",
        "import tensorflow as tf\n",
        "from tensorflow.keras.preprocessing.text import Tokenizer\n",
        "from tensorflow.keras.preprocessing.sequence import pad_sequences\n",
        "\n",
        "import matplotlib.pyplot as plt\n",
        "import seaborn as sns\n",
        "\n",
        "from tensorflow.keras import regularizers\n",
        "from tensorflow.keras.optimizers import RMSprop"
      ],
      "execution_count": 1,
      "outputs": []
    },
    {
      "cell_type": "markdown",
      "metadata": {
        "id": "KW25two_qcas"
      },
      "source": [
        "# Data Import dan Preprocessing"
      ]
    },
    {
      "cell_type": "code",
      "metadata": {
        "colab": {
          "base_uri": "https://localhost:8080/"
        },
        "id": "ZochdGIRqe3C",
        "outputId": "67282613-c635-4ffc-9af7-552cb5b72428"
      },
      "source": [
        "df = pd.read_csv('bbc/bbc-text.csv')\n",
        "df.info()"
      ],
      "execution_count": 2,
      "outputs": [
        {
          "output_type": "stream",
          "text": [
            "<class 'pandas.core.frame.DataFrame'>\n",
            "RangeIndex: 2225 entries, 0 to 2224\n",
            "Data columns (total 2 columns):\n",
            " #   Column    Non-Null Count  Dtype \n",
            "---  ------    --------------  ----- \n",
            " 0   category  2225 non-null   object\n",
            " 1   text      2225 non-null   object\n",
            "dtypes: object(2)\n",
            "memory usage: 34.9+ KB\n"
          ],
          "name": "stdout"
        }
      ]
    },
    {
      "cell_type": "code",
      "metadata": {
        "colab": {
          "base_uri": "https://localhost:8080/"
        },
        "id": "Vef0pbmqqmz7",
        "outputId": "e2b92b60-0f37-4b8b-b37e-37bbab0e5e61"
      },
      "source": [
        "print(\"Total data yang kosong\\n{}\\n\".format(df.isnull().sum()))\n",
        "print(\"Total duplikat data {}\".format(df.duplicated().sum()))"
      ],
      "execution_count": 3,
      "outputs": [
        {
          "output_type": "stream",
          "text": [
            "Total data yang kosong\n",
            "category    0\n",
            "text        0\n",
            "dtype: int64\n",
            "\n",
            "Total duplikat data 99\n"
          ],
          "name": "stdout"
        }
      ]
    },
    {
      "cell_type": "code",
      "metadata": {
        "colab": {
          "base_uri": "https://localhost:8080/"
        },
        "id": "rLZwcJsnqtel",
        "outputId": "a1c96c15-d186-486d-b2fc-08d2980f99db"
      },
      "source": [
        "# df = df.dropna()\n",
        "df.drop_duplicates(inplace=True)\n",
        "df.reset_index(drop=True, inplace=True)\n",
        "df.category.value_counts()"
      ],
      "execution_count": 4,
      "outputs": [
        {
          "output_type": "execute_result",
          "data": {
            "text/plain": [
              "sport            504\n",
              "business         503\n",
              "politics         403\n",
              "entertainment    369\n",
              "tech             347\n",
              "Name: category, dtype: int64"
            ]
          },
          "metadata": {
            "tags": []
          },
          "execution_count": 4
        }
      ]
    },
    {
      "cell_type": "code",
      "metadata": {
        "id": "g6H1Ib9Yuu5q"
      },
      "source": [
        "target = list(df.category.unique())"
      ],
      "execution_count": 5,
      "outputs": []
    },
    {
      "cell_type": "markdown",
      "metadata": {
        "id": "gOoowGQUq8iV"
      },
      "source": [
        "## Text Cleanseing"
      ]
    },
    {
      "cell_type": "code",
      "metadata": {
        "colab": {
          "base_uri": "https://localhost:8080/"
        },
        "id": "UoBhEekRqw12",
        "outputId": "ae171a59-4f21-48c5-a6d8-c705883c01da"
      },
      "source": [
        "nltk.download('stopwords')\n",
        "nltk.download('wordnet')\n",
        "\n",
        "\n",
        "df.text = df.text.apply(lambda x: x.lower())\n",
        "\n",
        "signs = list(punctuation) # special characters \n",
        "stop_word = list(stopwords.words('english')) # stop words like `a,an,the,or,at` etc\n",
        "wordnet_lemmatizer = WordNetLemmatizer() # make the word cooking,cooks,cooked -> cook (in ideal case)"
      ],
      "execution_count": 6,
      "outputs": [
        {
          "output_type": "stream",
          "text": [
            "[nltk_data] Downloading package stopwords to /root/nltk_data...\n",
            "[nltk_data]   Package stopwords is already up-to-date!\n",
            "[nltk_data] Downloading package wordnet to /root/nltk_data...\n",
            "[nltk_data]   Package wordnet is already up-to-date!\n"
          ],
          "name": "stdout"
        }
      ]
    },
    {
      "cell_type": "code",
      "metadata": {
        "id": "aLhGkwjYrCqz"
      },
      "source": [
        "def clean_articles(df):\n",
        "\n",
        "    #REPLACING    \n",
        "    df['text'] = df['text'].str.replace(\"\\r\", \" \")\n",
        "    df['text'] = df['text'].str.replace(\"\\n\", \" \")\n",
        "    df['text'] = df['text'].str.replace(\"    \", \" \")\n",
        "    df['text'] = df['text'].str.replace('\"', '')\n",
        "    df['text'] = df['text'].str.lower()  \n",
        "    for sign in signs:\n",
        "        df['text'] = df['text'].str.replace(sign, '')\n",
        "    df['text'] = df['text'].str.replace(\"'s\", \"\")\n",
        "\n",
        "    #LEMMATIZER\n",
        "    nrows = len(df)\n",
        "    lemmatized_text_list = []\n",
        "    for row in range(nrows):\n",
        "        lemmatized_list = [] \n",
        "        text = df.loc[row]['text'] \n",
        "        text_words = text.split(\" \")\n",
        "        for word in text_words:  \n",
        "            lemmatized_list.append(wordnet_lemmatizer.lemmatize(word, pos=\"v\"))\n",
        "        lemmatized_text = \" \".join(lemmatized_list)  \n",
        "        lemmatized_text_list.append(lemmatized_text) \n",
        "    df['text'] = lemmatized_text_list\n",
        "    \n",
        "    #REMOVING STOPWORDS\n",
        "    for sw in stop_word:\n",
        "        re_sw = r\"\\b\" + sw + r\"\\b\"\n",
        "        df['text'] = df['text'].str.replace(re_sw, '')"
      ],
      "execution_count": 7,
      "outputs": []
    },
    {
      "cell_type": "code",
      "metadata": {
        "id": "F3JdsoNKrEzZ"
      },
      "source": [
        "clean_articles(df)"
      ],
      "execution_count": 8,
      "outputs": []
    },
    {
      "cell_type": "markdown",
      "metadata": {
        "id": "Omdln9Y8rNw1"
      },
      "source": [
        "## Word count distribution"
      ]
    },
    {
      "cell_type": "code",
      "metadata": {
        "id": "-07fJZ55rGwX"
      },
      "source": [
        "df['num_words'] = df['text'].apply(lambda x:len(str(x).split()))"
      ],
      "execution_count": 9,
      "outputs": []
    },
    {
      "cell_type": "code",
      "metadata": {
        "colab": {
          "base_uri": "https://localhost:8080/",
          "height": 429
        },
        "id": "e3W1hi5_rTFU",
        "outputId": "b3a5a71d-e43e-44f8-c2a0-18ac56eea8cd"
      },
      "source": [
        "plt.style.use('ggplot')\n",
        "plt.figure(figsize=(12,6))\n",
        "sns.histplot(df['num_words'],kde = False,color=\"red\",bins=100)\n",
        "plt.title(\"Frequency distribution of number of words for each text extracted\", size=20)"
      ],
      "execution_count": 10,
      "outputs": [
        {
          "output_type": "execute_result",
          "data": {
            "text/plain": [
              "Text(0.5, 1.0, 'Frequency distribution of number of words for each text extracted')"
            ]
          },
          "metadata": {
            "tags": []
          },
          "execution_count": 10
        },
        {
          "output_type": "display_data",
          "data": {
            "image/png": "[encoded data removed]",
            "text/plain": [
              "<Figure size 864x432 with 1 Axes>"
            ]
          },
          "metadata": {
            "tags": []
          }
        }
      ]
    },
    {
      "cell_type": "markdown",
      "metadata": {
        "id": "9pjhlKGsrZgG"
      },
      "source": [
        "## One hot encoding"
      ]
    },
    {
      "cell_type": "code",
      "metadata": {
        "colab": {
          "base_uri": "https://localhost:8080/",
          "height": 206
        },
        "id": "oSK87gn9rUgE",
        "outputId": "b2252ef8-f771-4465-fc32-e3283790e5f1"
      },
      "source": [
        "kategori = pd.get_dummies(df.category)\n",
        "new_df = pd.concat([df, kategori], axis=1)\n",
        "new_df.drop(columns=['category', 'num_words'], inplace=True)\n",
        "new_df.head()"
      ],
      "execution_count": 11,
      "outputs": [
        {
          "output_type": "execute_result",
          "data": {
            "text/html": [
              "<div>\n",
              "<style scoped>\n",
              "    .dataframe tbody tr th:only-of-type {\n",
              "        vertical-align: middle;\n",
              "    }\n",
              "\n",
              "    .dataframe tbody tr th {\n",
              "        vertical-align: top;\n",
              "    }\n",
              "\n",
              "    .dataframe thead th {\n",
              "        text-align: right;\n",
              "    }\n",
              "</style>\n",
              "<table border=\"1\" class=\"dataframe\">\n",
              "  <thead>\n",
              "    <tr style=\"text-align: right;\">\n",
              "      <th></th>\n",
              "      <th>text</th>\n",
              "      <th>business</th>\n",
              "      <th>entertainment</th>\n",
              "      <th>politics</th>\n",
              "      <th>sport</th>\n",
              "      <th>tech</th>\n",
              "    </tr>\n",
              "  </thead>\n",
              "  <tbody>\n",
              "    <tr>\n",
              "      <th>0</th>\n",
              "      <td>tv future   hand  viewers  home theatre system...</td>\n",
              "      <td>0</td>\n",
              "      <td>0</td>\n",
              "      <td>0</td>\n",
              "      <td>0</td>\n",
              "      <td>1</td>\n",
              "    </tr>\n",
              "    <tr>\n",
              "      <th>1</th>\n",
              "      <td>worldcom boss  leave book alone  former worldc...</td>\n",
              "      <td>1</td>\n",
              "      <td>0</td>\n",
              "      <td>0</td>\n",
              "      <td>0</td>\n",
              "      <td>0</td>\n",
              "    </tr>\n",
              "    <tr>\n",
              "      <th>2</th>\n",
              "      <td>tigers wary  farrell  gamble  leicester say   ...</td>\n",
              "      <td>0</td>\n",
              "      <td>0</td>\n",
              "      <td>0</td>\n",
              "      <td>1</td>\n",
              "      <td>0</td>\n",
              "    </tr>\n",
              "    <tr>\n",
              "      <th>3</th>\n",
              "      <td>yeading face newcastle  fa cup premiership sid...</td>\n",
              "      <td>0</td>\n",
              "      <td>0</td>\n",
              "      <td>0</td>\n",
              "      <td>1</td>\n",
              "      <td>0</td>\n",
              "    </tr>\n",
              "    <tr>\n",
              "      <th>4</th>\n",
              "      <td>ocean  twelve raid box office ocean  twelve   ...</td>\n",
              "      <td>0</td>\n",
              "      <td>1</td>\n",
              "      <td>0</td>\n",
              "      <td>0</td>\n",
              "      <td>0</td>\n",
              "    </tr>\n",
              "  </tbody>\n",
              "</table>\n",
              "</div>"
            ],
            "text/plain": [
              "                                                text  business  ...  sport  tech\n",
              "0  tv future   hand  viewers  home theatre system...         0  ...      0     1\n",
              "1  worldcom boss  leave book alone  former worldc...         1  ...      0     0\n",
              "2  tigers wary  farrell  gamble  leicester say   ...         0  ...      1     0\n",
              "3  yeading face newcastle  fa cup premiership sid...         0  ...      1     0\n",
              "4  ocean  twelve raid box office ocean  twelve   ...         0  ...      0     0\n",
              "\n",
              "[5 rows x 6 columns]"
            ]
          },
          "metadata": {
            "tags": []
          },
          "execution_count": 11
        }
      ]
    },
    {
      "cell_type": "markdown",
      "metadata": {
        "id": "aSy93Jearhxz"
      },
      "source": [
        "# Splitting Data for Training & Testing"
      ]
    },
    {
      "cell_type": "code",
      "metadata": {
        "id": "2SRBTwM7rdra"
      },
      "source": [
        "text = new_df['text'].values\n",
        "label = new_df[target].values"
      ],
      "execution_count": 12,
      "outputs": []
    },
    {
      "cell_type": "code",
      "metadata": {
        "id": "7YfYwI5urq_Z"
      },
      "source": [
        "# Split data untuk training dan test\n",
        "text_train, text_test, label_train, label_test = train_test_split(\n",
        "                text, label, test_size=0.2,\n",
        "                random_state=42\n",
        "                )"
      ],
      "execution_count": 13,
      "outputs": []
    },
    {
      "cell_type": "code",
      "metadata": {
        "colab": {
          "base_uri": "https://localhost:8080/"
        },
        "id": "vl1cmxrwrrYX",
        "outputId": "fe6be915-c31a-44f1-e108-4f9c8a44cd5a"
      },
      "source": [
        "print(\"Jumlah data training: {} (80%)\\n\".format(len(label_train)))\n",
        "print(\"Jumlah data testing: {} (20%)\\n\".format(len(label_test)))"
      ],
      "execution_count": 14,
      "outputs": [
        {
          "output_type": "stream",
          "text": [
            "Jumlah data training: 1700 (80%)\n",
            "\n",
            "Jumlah data testing: 426 (20%)\n",
            "\n"
          ],
          "name": "stdout"
        }
      ]
    },
    {
      "cell_type": "markdown",
      "metadata": {
        "id": "7S_XGIv8sPms"
      },
      "source": [
        "# Tokenisasi"
      ]
    },
    {
      "cell_type": "code",
      "metadata": {
        "id": "2gYK6x3QsLUK"
      },
      "source": [
        "# Tokenization\n",
        "tokenizer = Tokenizer(num_words=20000, oov_token='x')\n",
        "tokenizer.fit_on_texts(text_train)\n",
        "tokenizer.fit_on_texts(text_test)\n",
        "\n",
        "# Sekuens\n",
        "sekuens_train = tokenizer.texts_to_sequences(text_train)\n",
        "sekuens_test = tokenizer.texts_to_sequences(text_test)\n",
        "\n",
        "# Padding\n",
        "padded_train = pad_sequences(sekuens_train)\n",
        "padded_test = pad_sequences(sekuens_test)\n"
      ],
      "execution_count": 15,
      "outputs": []
    },
    {
      "cell_type": "markdown",
      "metadata": {
        "id": "ofin53BRsYF_"
      },
      "source": [
        "Callbacks"
      ]
    },
    {
      "cell_type": "code",
      "metadata": {
        "id": "njrJyhVtsVb6"
      },
      "source": [
        "# # callback\n",
        "# class myCallback(tf.keras.callbacks.Callback):\n",
        "#   def on_epoch_end(self, epoch, logs={}):\n",
        "#     if(logs.get('accuracy')>0.9 and logs.get('val_accuracy')>0.9):\n",
        "#       self.model.stop_training = True\n",
        "#       print(\"\\nThe accuracy of the training set and the validation set has reached > 90%!\")\n",
        "# callbacks = myCallback()\n",
        "\n",
        "reduce_lr = tf.keras.callbacks.ReduceLROnPlateau(\n",
        "    monitor='val_loss', \n",
        "    factor=0.2,\n",
        "    patience=5, \n",
        "    min_lr=1.5e-5\n",
        ")\n",
        "\n",
        "early_stop = tf.keras.callbacks.EarlyStopping(\n",
        "    monitor=\"val_loss\",\n",
        "    min_delta=0,\n",
        "    patience=12,\n",
        "    verbose=0,\n",
        "    mode=\"auto\",\n",
        "    baseline=None,\n",
        "    restore_best_weights=True\n",
        ")"
      ],
      "execution_count": 16,
      "outputs": []
    },
    {
      "cell_type": "markdown",
      "metadata": {
        "id": "HgMj9OTrsd3c"
      },
      "source": [
        "# Model Sequential"
      ]
    },
    {
      "cell_type": "code",
      "metadata": {
        "id": "Xi4P1GA3sahy"
      },
      "source": [
        "# Model\n",
        "\n",
        "# model = tf.keras.Sequential([\n",
        "#             tf.keras.layers.Embedding(input_dim=20000, output_dim=64),\n",
        "#             tf.keras.layers.Dropout(0.5),\n",
        "#             tf.keras.layers.Bidirectional(tf.keras.layers.LSTM(64, return_sequences=True)),\n",
        "#             tf.keras.layers.Bidirectional(tf.keras.layers.LSTM(64)),\n",
        "#             tf.keras.layers.Dense(64,kernel_regularizer=regularizers.l1_l2(l1=1e-5, l2=1e-4),\n",
        "#                                   bias_regularizer=regularizers.l2(1e-4),\n",
        "#                                   activity_regularizer=regularizers.l2(1e-5), activation='relu'),\n",
        "#             tf.keras.layers.Dropout(0.3),\n",
        "#             tf.keras.layers.Dense(5, activation='softmax')\n",
        "# ])\n",
        "\n",
        "model = tf.keras.Sequential([\n",
        "            tf.keras.layers.Embedding(input_dim=20000, output_dim=64),\n",
        "            tf.keras.layers.Dropout(0.5),\n",
        "            tf.keras.layers.LSTM(64),\n",
        "            tf.keras.layers.Dense(128, activation='relu'),\n",
        "            tf.keras.layers.Dropout(0.3),\n",
        "            tf.keras.layers.Dense(5, activation='softmax')\n",
        "])"
      ],
      "execution_count": 17,
      "outputs": []
    },
    {
      "cell_type": "code",
      "metadata": {
        "colab": {
          "base_uri": "https://localhost:8080/"
        },
        "id": "5GIXYoi9soEk",
        "outputId": "4a189d02-a609-4c75-ee7c-5535c037a334"
      },
      "source": [
        "model.compile(loss='categorical_crossentropy',\n",
        "            #   optimizer='adam',\n",
        "              optimizer=RMSprop(learning_rate=0.001),\n",
        "              metrics=['accuracy'])\n",
        "\n",
        "model.summary()"
      ],
      "execution_count": 18,
      "outputs": [
        {
          "output_type": "stream",
          "text": [
            "Model: \"sequential\"\n",
            "_________________________________________________________________\n",
            "Layer (type)                 Output Shape              Param #   \n",
            "=================================================================\n",
            "embedding (Embedding)        (None, None, 64)          1280000   \n",
            "_________________________________________________________________\n",
            "dropout (Dropout)            (None, None, 64)          0         \n",
            "_________________________________________________________________\n",
            "lstm (LSTM)                  (None, 64)                33024     \n",
            "_________________________________________________________________\n",
            "dense (Dense)                (None, 128)               8320      \n",
            "_________________________________________________________________\n",
            "dropout_1 (Dropout)          (None, 128)               0         \n",
            "_________________________________________________________________\n",
            "dense_1 (Dense)              (None, 5)                 645       \n",
            "=================================================================\n",
            "Total params: 1,321,989\n",
            "Trainable params: 1,321,989\n",
            "Non-trainable params: 0\n",
            "_________________________________________________________________\n"
          ],
          "name": "stdout"
        }
      ]
    },
    {
      "cell_type": "markdown",
      "metadata": {
        "id": "_Ny3S6XAstwK"
      },
      "source": [
        "# Model Fitting"
      ]
    },
    {
      "cell_type": "code",
      "metadata": {
        "colab": {
          "base_uri": "https://localhost:8080/"
        },
        "id": "m3XySOy4srPY",
        "outputId": "7e2620af-05aa-435a-89f7-8ff2cfbbb3e9"
      },
      "source": [
        "# model fit\n",
        "history = model.fit(padded_train,\n",
        "                    label_train, \n",
        "                    epochs=20,\n",
        "                    validation_data=(padded_test, label_test),\n",
        "                    verbose=1,\n",
        "                    callbacks=[reduce_lr, early_stop],\n",
        "                    # batch_size=64\n",
        "                    )"
      ],
      "execution_count": 19,
      "outputs": [
        {
          "output_type": "stream",
          "text": [
            "Epoch 1/20\n",
            "54/54 [==============================] - 8s 95ms/step - loss: 1.5534 - accuracy: 0.2994 - val_loss: 1.2398 - val_accuracy: 0.4390\n",
            "Epoch 2/20\n",
            "54/54 [==============================] - 5s 85ms/step - loss: 1.1036 - accuracy: 0.4629 - val_loss: 0.9853 - val_accuracy: 0.5892\n",
            "Epoch 3/20\n",
            "54/54 [==============================] - 5s 86ms/step - loss: 0.7805 - accuracy: 0.6494 - val_loss: 0.7180 - val_accuracy: 0.7113\n",
            "Epoch 4/20\n",
            "54/54 [==============================] - 5s 86ms/step - loss: 0.5045 - accuracy: 0.8435 - val_loss: 0.3742 - val_accuracy: 0.9061\n",
            "Epoch 5/20\n",
            "54/54 [==============================] - 5s 87ms/step - loss: 0.4241 - accuracy: 0.9024 - val_loss: 0.6279 - val_accuracy: 0.8474\n",
            "Epoch 6/20\n",
            "54/54 [==============================] - 5s 87ms/step - loss: 0.1444 - accuracy: 0.9629 - val_loss: 0.7207 - val_accuracy: 0.7653\n",
            "Epoch 7/20\n",
            "54/54 [==============================] - 5s 88ms/step - loss: 0.1224 - accuracy: 0.9765 - val_loss: 0.2643 - val_accuracy: 0.9202\n",
            "Epoch 8/20\n",
            "54/54 [==============================] - 5s 89ms/step - loss: 0.1228 - accuracy: 0.9735 - val_loss: 0.3045 - val_accuracy: 0.9131\n",
            "Epoch 9/20\n",
            "54/54 [==============================] - 5s 89ms/step - loss: 0.0318 - accuracy: 0.9929 - val_loss: 0.2580 - val_accuracy: 0.9296\n",
            "Epoch 10/20\n",
            "54/54 [==============================] - 5s 88ms/step - loss: 0.0611 - accuracy: 0.9853 - val_loss: 0.2690 - val_accuracy: 0.9272\n",
            "Epoch 11/20\n",
            "54/54 [==============================] - 5s 87ms/step - loss: 0.0084 - accuracy: 0.9982 - val_loss: 0.2598 - val_accuracy: 0.9413\n",
            "Epoch 12/20\n",
            "54/54 [==============================] - 5s 87ms/step - loss: 0.0377 - accuracy: 0.9912 - val_loss: 0.3104 - val_accuracy: 0.9413\n",
            "Epoch 13/20\n",
            "54/54 [==============================] - 5s 87ms/step - loss: 0.0063 - accuracy: 0.9994 - val_loss: 0.4547 - val_accuracy: 0.9296\n",
            "Epoch 14/20\n",
            "54/54 [==============================] - 5s 87ms/step - loss: 7.9289e-04 - accuracy: 0.9994 - val_loss: 0.4216 - val_accuracy: 0.9319\n",
            "Epoch 15/20\n",
            "54/54 [==============================] - 5s 87ms/step - loss: 1.7511e-04 - accuracy: 1.0000 - val_loss: 0.4526 - val_accuracy: 0.9296\n",
            "Epoch 16/20\n",
            "54/54 [==============================] - 5s 88ms/step - loss: 1.2014e-04 - accuracy: 1.0000 - val_loss: 0.4953 - val_accuracy: 0.9296\n",
            "Epoch 17/20\n",
            "54/54 [==============================] - 5s 88ms/step - loss: 2.7116e-04 - accuracy: 1.0000 - val_loss: 0.4578 - val_accuracy: 0.9390\n",
            "Epoch 18/20\n",
            "54/54 [==============================] - 5s 87ms/step - loss: 8.8388e-06 - accuracy: 1.0000 - val_loss: 0.4819 - val_accuracy: 0.9390\n",
            "Epoch 19/20\n",
            "54/54 [==============================] - 5s 88ms/step - loss: 5.0616e-06 - accuracy: 1.0000 - val_loss: 0.5258 - val_accuracy: 0.9390\n",
            "Epoch 20/20\n",
            "54/54 [==============================] - 5s 88ms/step - loss: 2.5535e-06 - accuracy: 1.0000 - val_loss: 0.5468 - val_accuracy: 0.9390\n"
          ],
          "name": "stdout"
        }
      ]
    },
    {
      "cell_type": "markdown",
      "metadata": {
        "id": "-z1q35t5syRk"
      },
      "source": [
        "# Plotting Accuracy dan Loss"
      ]
    },
    {
      "cell_type": "code",
      "metadata": {
        "colab": {
          "base_uri": "https://localhost:8080/",
          "height": 299
        },
        "id": "VUCpYkTJs4NZ",
        "outputId": "86f4140b-76a8-479a-ebd4-47bbc208f435"
      },
      "source": [
        "# plot of accuracy\n",
        "plt.plot(history.history['accuracy'])\n",
        "plt.plot(history.history['val_accuracy'])\n",
        "plt.title('Model Accuracy')\n",
        "plt.ylabel('accuracy')\n",
        "plt.xlabel('epoch')\n",
        "plt.legend(['train', 'test'], loc='upper left')\n",
        "plt.show()"
      ],
      "execution_count": 20,
      "outputs": [
        {
          "output_type": "display_data",
          "data": {
            "image/png": "[encoded data removed]",
            "text/plain": [
              "<Figure size 432x288 with 1 Axes>"
            ]
          },
          "metadata": {
            "tags": []
          }
        }
      ]
    },
    {
      "cell_type": "code",
      "metadata": {
        "colab": {
          "base_uri": "https://localhost:8080/",
          "height": 299
        },
        "id": "1oKP-JgZs6Bo",
        "outputId": "f562eef1-7ffb-4b31-bafe-0f4b001f902d"
      },
      "source": [
        "# plot of loss\n",
        "plt.plot(history.history['loss'])\n",
        "plt.plot(history.history['val_loss'])\n",
        "plt.title('Model Loss')\n",
        "plt.ylabel('loss')\n",
        "plt.xlabel('epoch')\n",
        "plt.legend(['train', 'test'], loc='upper right')\n",
        "plt.show()"
      ],
      "execution_count": 21,
      "outputs": [
        {
          "output_type": "display_data",
          "data": {
            "image/png": "[encoded data removed]",
            "text/plain": [
              "<Figure size 432x288 with 1 Axes>"
            ]
          },
          "metadata": {
            "tags": []
          }
        }
      ]
    }
  ]
}