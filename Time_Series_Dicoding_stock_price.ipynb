{
  "nbformat": 4,
  "nbformat_minor": 0,
  "metadata": {
    "colab": {
      "name": "Time_Series_Dicoding_stock_price.ipynb",
      "provenance": [],
      "collapsed_sections": []
    },
    "kernelspec": {
      "name": "python3",
      "display_name": "Python 3"
    },
    "language_info": {
      "name": "python"
    },
    "accelerator": "GPU"
  },
  "cells": [
    {
      "cell_type": "markdown",
      "metadata": {
        "id": "c6AL-7lHYjha"
      },
      "source": [
        "# Proyek Kedua : Membuat Model Machine Learning dengan Data Time Series"
      ]
    },
    {
      "cell_type": "markdown",
      "metadata": {
        "id": "oIjlIorqZHU1"
      },
      "source": [
        "Nama: Kemal Adam Roisy\n",
        "\n",
        "Email: kemal.adam@sci.ui.ac.id\n",
        "\n",
        "Materi: Belajar Pengembangan Machine Learning\n"
      ]
    },
    {
      "cell_type": "markdown",
      "metadata": {
        "id": "uRMfQXdLYo6H"
      },
      "source": [
        "## Kriteria Submission:\n",
        "\n",
        "\n",
        "\n",
        "1.   Dataset yang akan dipakai bebas, namun minimal memiliki 1000 sampel.\n",
        "2.   Harus menggunakan LSTM dalam arsitektur model.\n",
        "3.   Validation set sebesar 20% dari total dataset.\n",
        "4.   Model harus menggunakan model sequential.\n",
        "5.   Harus menggunakan Learning Rate pada Optimizer.\n",
        "6.   MAE < 10% skala data.\n",
        "\n"
      ]
    },
    {
      "cell_type": "markdown",
      "metadata": {
        "id": "XkkMmOXoZYx1"
      },
      "source": [
        "# Dataset"
      ]
    },
    {
      "cell_type": "markdown",
      "metadata": {
        "id": "oB-Om7-_PtVP"
      },
      "source": [
        "Data Source: IBM Stock Price (23-7-1991 to 23-7-2021\n",
        "\n",
        "url: https://stooq.com/q/?s=ibm.us&c=30y&t=l&a=lg&b=0\n"
      ]
    },
    {
      "cell_type": "code",
      "metadata": {
        "id": "0aQArjBc6O0B"
      },
      "source": [
        "import pandas as pd\n",
        "import pandas_datareader as pdr\n",
        "\n",
        "import datetime as dt\n",
        "\n",
        "import matplotlib.pyplot as plt\n",
        "\n",
        "import numpy as np\n",
        "\n",
        "from sklearn.preprocessing import MinMaxScaler\n",
        "from math import ceil\n",
        "from sklearn.model_selection import train_test_split\n",
        "\n",
        "import tensorflow as tf"
      ],
      "execution_count": 1,
      "outputs": []
    },
    {
      "cell_type": "code",
      "metadata": {
        "id": "Cv852r216gsm"
      },
      "source": [
        "start = dt.datetime(1991, 7, 23)\n",
        "end = dt.datetime.today()\n",
        "df = pdr.data.DataReader('IBM', 'stooq', start, end)"
      ],
      "execution_count": 2,
      "outputs": []
    },
    {
      "cell_type": "code",
      "metadata": {
        "colab": {
          "base_uri": "https://localhost:8080/",
          "height": 234
        },
        "id": "TNO7r-2R7bks",
        "outputId": "05a4584e-14aa-405a-e05f-4e943e2c248f"
      },
      "source": [
        "df.head()"
      ],
      "execution_count": 3,
      "outputs": [
        {
          "output_type": "execute_result",
          "data": {
            "text/html": [
              "<div>\n",
              "<style scoped>\n",
              "    .dataframe tbody tr th:only-of-type {\n",
              "        vertical-align: middle;\n",
              "    }\n",
              "\n",
              "    .dataframe tbody tr th {\n",
              "        vertical-align: top;\n",
              "    }\n",
              "\n",
              "    .dataframe thead th {\n",
              "        text-align: right;\n",
              "    }\n",
              "</style>\n",
              "<table border=\"1\" class=\"dataframe\">\n",
              "  <thead>\n",
              "    <tr style=\"text-align: right;\">\n",
              "      <th></th>\n",
              "      <th>Open</th>\n",
              "      <th>High</th>\n",
              "      <th>Low</th>\n",
              "      <th>Close</th>\n",
              "      <th>Volume</th>\n",
              "    </tr>\n",
              "    <tr>\n",
              "      <th>Date</th>\n",
              "      <th></th>\n",
              "      <th></th>\n",
              "      <th></th>\n",
              "      <th></th>\n",
              "      <th></th>\n",
              "    </tr>\n",
              "  </thead>\n",
              "  <tbody>\n",
              "    <tr>\n",
              "      <th>2021-07-21</th>\n",
              "      <td>139.97</td>\n",
              "      <td>141.39</td>\n",
              "      <td>139.6500</td>\n",
              "      <td>141.30</td>\n",
              "      <td>4803977.0</td>\n",
              "    </tr>\n",
              "    <tr>\n",
              "      <th>2021-07-20</th>\n",
              "      <td>143.00</td>\n",
              "      <td>144.92</td>\n",
              "      <td>138.7000</td>\n",
              "      <td>139.97</td>\n",
              "      <td>13611675.0</td>\n",
              "    </tr>\n",
              "    <tr>\n",
              "      <th>2021-07-19</th>\n",
              "      <td>136.45</td>\n",
              "      <td>138.49</td>\n",
              "      <td>136.2089</td>\n",
              "      <td>137.92</td>\n",
              "      <td>8582302.0</td>\n",
              "    </tr>\n",
              "    <tr>\n",
              "      <th>2021-07-16</th>\n",
              "      <td>141.00</td>\n",
              "      <td>141.00</td>\n",
              "      <td>138.5900</td>\n",
              "      <td>138.90</td>\n",
              "      <td>4109308.0</td>\n",
              "    </tr>\n",
              "    <tr>\n",
              "      <th>2021-07-15</th>\n",
              "      <td>139.32</td>\n",
              "      <td>140.46</td>\n",
              "      <td>138.8005</td>\n",
              "      <td>140.45</td>\n",
              "      <td>3639698.0</td>\n",
              "    </tr>\n",
              "  </tbody>\n",
              "</table>\n",
              "</div>"
            ],
            "text/plain": [
              "              Open    High       Low   Close      Volume\n",
              "Date                                                    \n",
              "2021-07-21  139.97  141.39  139.6500  141.30   4803977.0\n",
              "2021-07-20  143.00  144.92  138.7000  139.97  13611675.0\n",
              "2021-07-19  136.45  138.49  136.2089  137.92   8582302.0\n",
              "2021-07-16  141.00  141.00  138.5900  138.90   4109308.0\n",
              "2021-07-15  139.32  140.46  138.8005  140.45   3639698.0"
            ]
          },
          "metadata": {
            "tags": []
          },
          "execution_count": 3
        }
      ]
    },
    {
      "cell_type": "code",
      "metadata": {
        "id": "J23psaeh8JQz"
      },
      "source": [
        "df.drop(['Open','High','Low','Volume'],axis=1, inplace=True)\n",
        "df.sort_values('Date', inplace=True)"
      ],
      "execution_count": 4,
      "outputs": []
    },
    {
      "cell_type": "code",
      "metadata": {
        "colab": {
          "base_uri": "https://localhost:8080/"
        },
        "id": "lMrpXwTGCkD6",
        "outputId": "1aac4f76-bd1e-40ab-81be-ef27edc6dfaf"
      },
      "source": [
        "df.isnull().sum()"
      ],
      "execution_count": 5,
      "outputs": [
        {
          "output_type": "execute_result",
          "data": {
            "text/plain": [
              "Close    0\n",
              "dtype: int64"
            ]
          },
          "metadata": {
            "tags": []
          },
          "execution_count": 5
        }
      ]
    },
    {
      "cell_type": "code",
      "metadata": {
        "colab": {
          "base_uri": "https://localhost:8080/",
          "height": 297
        },
        "id": "L1Le7KawAO3s",
        "outputId": "6689be90-4c45-435c-9c59-81ae482aa25a"
      },
      "source": [
        "df.describe()"
      ],
      "execution_count": 6,
      "outputs": [
        {
          "output_type": "execute_result",
          "data": {
            "text/html": [
              "<div>\n",
              "<style scoped>\n",
              "    .dataframe tbody tr th:only-of-type {\n",
              "        vertical-align: middle;\n",
              "    }\n",
              "\n",
              "    .dataframe tbody tr th {\n",
              "        vertical-align: top;\n",
              "    }\n",
              "\n",
              "    .dataframe thead th {\n",
              "        text-align: right;\n",
              "    }\n",
              "</style>\n",
              "<table border=\"1\" class=\"dataframe\">\n",
              "  <thead>\n",
              "    <tr style=\"text-align: right;\">\n",
              "      <th></th>\n",
              "      <th>Close</th>\n",
              "    </tr>\n",
              "  </thead>\n",
              "  <tbody>\n",
              "    <tr>\n",
              "      <th>count</th>\n",
              "      <td>7556.000000</td>\n",
              "    </tr>\n",
              "    <tr>\n",
              "      <th>mean</th>\n",
              "      <td>79.614133</td>\n",
              "    </tr>\n",
              "    <tr>\n",
              "      <th>std</th>\n",
              "      <td>43.843921</td>\n",
              "    </tr>\n",
              "    <tr>\n",
              "      <th>min</th>\n",
              "      <td>7.297400</td>\n",
              "    </tr>\n",
              "    <tr>\n",
              "      <th>25%</th>\n",
              "      <td>51.296500</td>\n",
              "    </tr>\n",
              "    <tr>\n",
              "      <th>50%</th>\n",
              "      <td>76.216000</td>\n",
              "    </tr>\n",
              "    <tr>\n",
              "      <th>75%</th>\n",
              "      <td>123.027500</td>\n",
              "    </tr>\n",
              "    <tr>\n",
              "      <th>max</th>\n",
              "      <td>159.520000</td>\n",
              "    </tr>\n",
              "  </tbody>\n",
              "</table>\n",
              "</div>"
            ],
            "text/plain": [
              "             Close\n",
              "count  7556.000000\n",
              "mean     79.614133\n",
              "std      43.843921\n",
              "min       7.297400\n",
              "25%      51.296500\n",
              "50%      76.216000\n",
              "75%     123.027500\n",
              "max     159.520000"
            ]
          },
          "metadata": {
            "tags": []
          },
          "execution_count": 6
        }
      ]
    },
    {
      "cell_type": "markdown",
      "metadata": {
        "id": "e-zwx1xJmR3G"
      },
      "source": [
        "Total Dataset yang dapat digunakan 7556 (> 1000) memenuhi **kriteria 1**"
      ]
    },
    {
      "cell_type": "code",
      "metadata": {
        "id": "Kw6R04gg1Wvy",
        "colab": {
          "base_uri": "https://localhost:8080/",
          "height": 234
        },
        "outputId": "467ead11-2397-4762-f450-71f75c7b2444"
      },
      "source": [
        "scaler = MinMaxScaler()\n",
        "normalized = scaler.fit_transform(np.array(df['Close']).reshape(-1,1))\n",
        "df['Close'] = normalized\n",
        "\n",
        "df.head()"
      ],
      "execution_count": 7,
      "outputs": [
        {
          "output_type": "execute_result",
          "data": {
            "text/html": [
              "<div>\n",
              "<style scoped>\n",
              "    .dataframe tbody tr th:only-of-type {\n",
              "        vertical-align: middle;\n",
              "    }\n",
              "\n",
              "    .dataframe tbody tr th {\n",
              "        vertical-align: top;\n",
              "    }\n",
              "\n",
              "    .dataframe thead th {\n",
              "        text-align: right;\n",
              "    }\n",
              "</style>\n",
              "<table border=\"1\" class=\"dataframe\">\n",
              "  <thead>\n",
              "    <tr style=\"text-align: right;\">\n",
              "      <th></th>\n",
              "      <th>Close</th>\n",
              "    </tr>\n",
              "    <tr>\n",
              "      <th>Date</th>\n",
              "      <th></th>\n",
              "    </tr>\n",
              "  </thead>\n",
              "  <tbody>\n",
              "    <tr>\n",
              "      <th>1991-07-23</th>\n",
              "      <td>0.069737</td>\n",
              "    </tr>\n",
              "    <tr>\n",
              "      <th>1991-07-24</th>\n",
              "      <td>0.069862</td>\n",
              "    </tr>\n",
              "    <tr>\n",
              "      <th>1991-07-25</th>\n",
              "      <td>0.069599</td>\n",
              "    </tr>\n",
              "    <tr>\n",
              "      <th>1991-07-26</th>\n",
              "      <td>0.069599</td>\n",
              "    </tr>\n",
              "    <tr>\n",
              "      <th>1991-07-29</th>\n",
              "      <td>0.070624</td>\n",
              "    </tr>\n",
              "  </tbody>\n",
              "</table>\n",
              "</div>"
            ],
            "text/plain": [
              "               Close\n",
              "Date                \n",
              "1991-07-23  0.069737\n",
              "1991-07-24  0.069862\n",
              "1991-07-25  0.069599\n",
              "1991-07-26  0.069599\n",
              "1991-07-29  0.070624"
            ]
          },
          "metadata": {
            "tags": []
          },
          "execution_count": 7
        }
      ]
    },
    {
      "cell_type": "code",
      "metadata": {
        "colab": {
          "base_uri": "https://localhost:8080/",
          "height": 359
        },
        "id": "sSygLfWGCZOh",
        "outputId": "5a225cc4-d027-44bf-9ca5-6ff4e93d764c"
      },
      "source": [
        "dates = df.index.values\n",
        "close = df['Close'].values\n",
        "\n",
        "plt.figure(figsize=(18,5))\n",
        "\n",
        "plt.plot(dates, close, label='close')\n",
        "plt.legend(loc='upper left')\n",
        "plt.title('IBM Close Price',\n",
        "          fontsize=20)"
      ],
      "execution_count": 8,
      "outputs": [
        {
          "output_type": "execute_result",
          "data": {
            "text/plain": [
              "Text(0.5, 1.0, 'IBM Close Price')"
            ]
          },
          "metadata": {
            "tags": []
          },
          "execution_count": 8
        },
        {
          "output_type": "display_data",
          "data": {
            "image/png": "[encoded data removed]",
            "text/plain": [
              "<Figure size 1296x360 with 1 Axes>"
            ]
          },
          "metadata": {
            "tags": [],
            "needs_background": "light"
          }
        }
      ]
    },
    {
      "cell_type": "code",
      "metadata": {
        "id": "I3Y0O4qmIHcr"
      },
      "source": [
        "def windowed_dataset(series, window_size, batch_size, shuffle_buffer):\n",
        "    series = tf.expand_dims(series, axis=-1)\n",
        "    ds = tf.data.Dataset.from_tensor_slices(series)\n",
        "    ds = ds.window(window_size + 1, shift=1, drop_remainder=True)\n",
        "    ds = ds.flat_map(lambda w: w.batch(window_size + 1))\n",
        "    ds = ds.shuffle(shuffle_buffer)\n",
        "    ds = ds.map(lambda w: (w[:-1], w[1:]))\n",
        "    return ds.batch(batch_size).prefetch(1)"
      ],
      "execution_count": 9,
      "outputs": []
    },
    {
      "cell_type": "markdown",
      "metadata": {
        "id": "6sSOjFwumkcw"
      },
      "source": [
        "Validation set diatur menjadi 20% (test_size=0.2) sesuai **kriteria 3**"
      ]
    },
    {
      "cell_type": "code",
      "metadata": {
        "id": "5ErhvIpA-P0r"
      },
      "source": [
        "X_train, X_test = train_test_split(close, test_size=0.2, shuffle=False)\n",
        "\n",
        "window_size = 64\n",
        "batch_size = 200\n",
        "shuffle_buffer_size = 1000"
      ],
      "execution_count": 10,
      "outputs": []
    },
    {
      "cell_type": "code",
      "metadata": {
        "id": "hsNsiZF-IIiY"
      },
      "source": [
        " data_train = windowed_dataset(X_train, window_size, batch_size, shuffle_buffer_size)\n",
        " data_test = windowed_dataset(X_test, window_size, batch_size, shuffle_buffer_size)"
      ],
      "execution_count": 11,
      "outputs": []
    },
    {
      "cell_type": "code",
      "metadata": {
        "id": "JNQywi3zMSuj"
      },
      "source": [
        "class myCallback(tf.keras.callbacks.Callback):\n",
        "  def on_epoch_end(self, epoch, logs={}):\n",
        "    if(logs.get('mae')<0.09 and logs.get('val_mae')<0.09):\n",
        "      print(\"\\nMean Absolute Error < 9% dari data yang sudah dinormalisasi!\\n\")\n",
        "      print(\"mae = {}%\".format(logs.get('mae')*100), \"val_mae = {}%\".format(logs.get('val_mae')*100))\n",
        "      self.model.stop_training = True\n",
        "\n",
        "callbacks = myCallback()"
      ],
      "execution_count": 12,
      "outputs": []
    },
    {
      "cell_type": "markdown",
      "metadata": {
        "id": "U3k02ikmm4kA"
      },
      "source": [
        "Pemodelan menggunakan 2 layer LSTM sesuai **keiteria 2** dan menggunakan model Sequential sesuai **kriteria 4**"
      ]
    },
    {
      "cell_type": "code",
      "metadata": {
        "id": "VpGmBYQPF7Zt"
      },
      "source": [
        "model = tf.keras.models.Sequential([\n",
        "    tf.keras.layers.LSTM(64, return_sequences=True),\n",
        "    tf.keras.layers.Dropout(0.5),\n",
        "    tf.keras.layers.LSTM(64),\n",
        "    tf.keras.layers.Dense(32, activation=\"relu\"),\n",
        "    tf.keras.layers.Dense(32, activation=\"relu\"),\n",
        "    tf.keras.layers.Dropout(0.3),\n",
        "    tf.keras.layers.Dense(1)\n",
        "])"
      ],
      "execution_count": 13,
      "outputs": []
    },
    {
      "cell_type": "markdown",
      "metadata": {
        "id": "jO_GnTSvnQ8U"
      },
      "source": [
        "Menetapkan nilai learning rate dan momentum pada optimizer sesuai **kriteria 5**"
      ]
    },
    {
      "cell_type": "code",
      "metadata": {
        "colab": {
          "base_uri": "https://localhost:8080/"
        },
        "id": "EbrTkaUFGC9b",
        "outputId": "d01b720f-a362-4141-c682-6faa8a4ff701"
      },
      "source": [
        " optimizer = tf.keras.optimizers.SGD(learning_rate=1.0000e-04, momentum=0.9)\n",
        "\n",
        "model.compile(loss=tf.keras.losses.Huber(),\n",
        "              optimizer=optimizer,\n",
        "              metrics=[\"mae\"])\n",
        "\n",
        "history = model.fit(data_train, epochs=300,\n",
        "                    validation_data=data_test,\n",
        "                    batch_size=16,\n",
        "                    callbacks=[callbacks],\n",
        "                    verbose=2\n",
        "                    )"
      ],
      "execution_count": 15,
      "outputs": [
        {
          "output_type": "stream",
          "text": [
            "Epoch 1/300\n",
            "30/30 - 6s - loss: 0.1148 - mae: 0.3966 - val_loss: 0.2880 - val_mae: 0.7557\n",
            "Epoch 2/300\n",
            "30/30 - 1s - loss: 0.1050 - mae: 0.3740 - val_loss: 0.2669 - val_mae: 0.7273\n",
            "Epoch 3/300\n",
            "30/30 - 1s - loss: 0.0964 - mae: 0.3539 - val_loss: 0.2499 - val_mae: 0.7035\n",
            "Epoch 4/300\n",
            "30/30 - 1s - loss: 0.0892 - mae: 0.3374 - val_loss: 0.2350 - val_mae: 0.6820\n",
            "Epoch 5/300\n",
            "30/30 - 1s - loss: 0.0826 - mae: 0.3234 - val_loss: 0.2221 - val_mae: 0.6629\n",
            "Epoch 6/300\n",
            "30/30 - 1s - loss: 0.0772 - mae: 0.3126 - val_loss: 0.2104 - val_mae: 0.6451\n",
            "Epoch 7/300\n",
            "30/30 - 1s - loss: 0.0720 - mae: 0.3019 - val_loss: 0.1990 - val_mae: 0.6271\n",
            "Epoch 8/300\n",
            "30/30 - 1s - loss: 0.0676 - mae: 0.2925 - val_loss: 0.1881 - val_mae: 0.6095\n",
            "Epoch 9/300\n",
            "30/30 - 1s - loss: 0.0633 - mae: 0.2834 - val_loss: 0.1780 - val_mae: 0.5928\n",
            "Epoch 10/300\n",
            "30/30 - 1s - loss: 0.0593 - mae: 0.2740 - val_loss: 0.1683 - val_mae: 0.5762\n",
            "Epoch 11/300\n",
            "30/30 - 1s - loss: 0.0563 - mae: 0.2668 - val_loss: 0.1582 - val_mae: 0.5583\n",
            "Epoch 12/300\n",
            "30/30 - 1s - loss: 0.0523 - mae: 0.2570 - val_loss: 0.1484 - val_mae: 0.5405\n",
            "Epoch 13/300\n",
            "30/30 - 1s - loss: 0.0494 - mae: 0.2500 - val_loss: 0.1393 - val_mae: 0.5233\n",
            "Epoch 14/300\n",
            "30/30 - 1s - loss: 0.0467 - mae: 0.2421 - val_loss: 0.1309 - val_mae: 0.5071\n",
            "Epoch 15/300\n",
            "30/30 - 1s - loss: 0.0445 - mae: 0.2368 - val_loss: 0.1234 - val_mae: 0.4920\n",
            "Epoch 16/300\n",
            "30/30 - 1s - loss: 0.0430 - mae: 0.2315 - val_loss: 0.1166 - val_mae: 0.4781\n",
            "Epoch 17/300\n",
            "30/30 - 1s - loss: 0.0407 - mae: 0.2259 - val_loss: 0.1106 - val_mae: 0.4654\n",
            "Epoch 18/300\n",
            "30/30 - 1s - loss: 0.0395 - mae: 0.2217 - val_loss: 0.1052 - val_mae: 0.4537\n",
            "Epoch 19/300\n",
            "30/30 - 1s - loss: 0.0380 - mae: 0.2171 - val_loss: 0.1003 - val_mae: 0.4428\n",
            "Epoch 20/300\n",
            "30/30 - 1s - loss: 0.0369 - mae: 0.2144 - val_loss: 0.0959 - val_mae: 0.4327\n",
            "Epoch 21/300\n",
            "30/30 - 1s - loss: 0.0359 - mae: 0.2107 - val_loss: 0.0919 - val_mae: 0.4234\n",
            "Epoch 22/300\n",
            "30/30 - 1s - loss: 0.0352 - mae: 0.2082 - val_loss: 0.0882 - val_mae: 0.4148\n",
            "Epoch 23/300\n",
            "30/30 - 1s - loss: 0.0342 - mae: 0.2051 - val_loss: 0.0849 - val_mae: 0.4068\n",
            "Epoch 24/300\n",
            "30/30 - 1s - loss: 0.0336 - mae: 0.2037 - val_loss: 0.0819 - val_mae: 0.3992\n",
            "Epoch 25/300\n",
            "30/30 - 1s - loss: 0.0333 - mae: 0.2029 - val_loss: 0.0791 - val_mae: 0.3923\n",
            "Epoch 26/300\n",
            "30/30 - 1s - loss: 0.0329 - mae: 0.2012 - val_loss: 0.0767 - val_mae: 0.3860\n",
            "Epoch 27/300\n",
            "30/30 - 1s - loss: 0.0319 - mae: 0.1992 - val_loss: 0.0744 - val_mae: 0.3801\n",
            "Epoch 28/300\n",
            "30/30 - 1s - loss: 0.0319 - mae: 0.1997 - val_loss: 0.0723 - val_mae: 0.3746\n",
            "Epoch 29/300\n",
            "30/30 - 1s - loss: 0.0311 - mae: 0.1959 - val_loss: 0.0704 - val_mae: 0.3695\n",
            "Epoch 30/300\n",
            "30/30 - 1s - loss: 0.0311 - mae: 0.1971 - val_loss: 0.0687 - val_mae: 0.3648\n",
            "Epoch 31/300\n",
            "30/30 - 1s - loss: 0.0303 - mae: 0.1941 - val_loss: 0.0670 - val_mae: 0.3603\n",
            "Epoch 32/300\n",
            "30/30 - 1s - loss: 0.0303 - mae: 0.1939 - val_loss: 0.0656 - val_mae: 0.3563\n",
            "Epoch 33/300\n",
            "30/30 - 1s - loss: 0.0298 - mae: 0.1930 - val_loss: 0.0642 - val_mae: 0.3524\n",
            "Epoch 34/300\n",
            "30/30 - 1s - loss: 0.0297 - mae: 0.1931 - val_loss: 0.0629 - val_mae: 0.3488\n",
            "Epoch 35/300\n",
            "30/30 - 1s - loss: 0.0292 - mae: 0.1915 - val_loss: 0.0618 - val_mae: 0.3456\n",
            "Epoch 36/300\n",
            "30/30 - 1s - loss: 0.0294 - mae: 0.1917 - val_loss: 0.0607 - val_mae: 0.3425\n",
            "Epoch 37/300\n",
            "30/30 - 1s - loss: 0.0289 - mae: 0.1901 - val_loss: 0.0597 - val_mae: 0.3397\n",
            "Epoch 38/300\n",
            "30/30 - 1s - loss: 0.0291 - mae: 0.1914 - val_loss: 0.0589 - val_mae: 0.3373\n",
            "Epoch 39/300\n",
            "30/30 - 1s - loss: 0.0286 - mae: 0.1898 - val_loss: 0.0580 - val_mae: 0.3346\n",
            "Epoch 40/300\n",
            "30/30 - 1s - loss: 0.0282 - mae: 0.1882 - val_loss: 0.0572 - val_mae: 0.3324\n",
            "Epoch 41/300\n",
            "30/30 - 1s - loss: 0.0284 - mae: 0.1889 - val_loss: 0.0565 - val_mae: 0.3302\n",
            "Epoch 42/300\n",
            "30/30 - 1s - loss: 0.0283 - mae: 0.1889 - val_loss: 0.0558 - val_mae: 0.3282\n",
            "Epoch 43/300\n",
            "30/30 - 1s - loss: 0.0279 - mae: 0.1876 - val_loss: 0.0551 - val_mae: 0.3261\n",
            "Epoch 44/300\n",
            "30/30 - 1s - loss: 0.0278 - mae: 0.1878 - val_loss: 0.0545 - val_mae: 0.3242\n",
            "Epoch 45/300\n",
            "30/30 - 1s - loss: 0.0279 - mae: 0.1870 - val_loss: 0.0540 - val_mae: 0.3227\n",
            "Epoch 46/300\n",
            "30/30 - 1s - loss: 0.0273 - mae: 0.1861 - val_loss: 0.0534 - val_mae: 0.3209\n",
            "Epoch 47/300\n",
            "30/30 - 1s - loss: 0.0275 - mae: 0.1857 - val_loss: 0.0528 - val_mae: 0.3190\n",
            "Epoch 48/300\n",
            "30/30 - 1s - loss: 0.0271 - mae: 0.1856 - val_loss: 0.0523 - val_mae: 0.3173\n",
            "Epoch 49/300\n",
            "30/30 - 1s - loss: 0.0267 - mae: 0.1839 - val_loss: 0.0518 - val_mae: 0.3157\n",
            "Epoch 50/300\n",
            "30/30 - 1s - loss: 0.0264 - mae: 0.1827 - val_loss: 0.0512 - val_mae: 0.3141\n",
            "Epoch 51/300\n",
            "30/30 - 1s - loss: 0.0265 - mae: 0.1832 - val_loss: 0.0507 - val_mae: 0.3125\n",
            "Epoch 52/300\n",
            "30/30 - 1s - loss: 0.0266 - mae: 0.1831 - val_loss: 0.0503 - val_mae: 0.3113\n",
            "Epoch 53/300\n",
            "30/30 - 1s - loss: 0.0266 - mae: 0.1832 - val_loss: 0.0499 - val_mae: 0.3099\n",
            "Epoch 54/300\n",
            "30/30 - 1s - loss: 0.0258 - mae: 0.1807 - val_loss: 0.0495 - val_mae: 0.3086\n",
            "Epoch 55/300\n",
            "30/30 - 1s - loss: 0.0259 - mae: 0.1817 - val_loss: 0.0491 - val_mae: 0.3072\n",
            "Epoch 56/300\n",
            "30/30 - 1s - loss: 0.0259 - mae: 0.1814 - val_loss: 0.0487 - val_mae: 0.3061\n",
            "Epoch 57/300\n",
            "30/30 - 1s - loss: 0.0253 - mae: 0.1785 - val_loss: 0.0483 - val_mae: 0.3049\n",
            "Epoch 58/300\n",
            "30/30 - 1s - loss: 0.0253 - mae: 0.1787 - val_loss: 0.0479 - val_mae: 0.3035\n",
            "Epoch 59/300\n",
            "30/30 - 1s - loss: 0.0252 - mae: 0.1792 - val_loss: 0.0476 - val_mae: 0.3023\n",
            "Epoch 60/300\n",
            "30/30 - 1s - loss: 0.0254 - mae: 0.1797 - val_loss: 0.0471 - val_mae: 0.3010\n",
            "Epoch 61/300\n",
            "30/30 - 1s - loss: 0.0247 - mae: 0.1769 - val_loss: 0.0468 - val_mae: 0.2997\n",
            "Epoch 62/300\n",
            "30/30 - 1s - loss: 0.0247 - mae: 0.1770 - val_loss: 0.0463 - val_mae: 0.2983\n",
            "Epoch 63/300\n",
            "30/30 - 1s - loss: 0.0244 - mae: 0.1760 - val_loss: 0.0460 - val_mae: 0.2972\n",
            "Epoch 64/300\n",
            "30/30 - 1s - loss: 0.0241 - mae: 0.1750 - val_loss: 0.0455 - val_mae: 0.2956\n",
            "Epoch 65/300\n",
            "30/30 - 1s - loss: 0.0242 - mae: 0.1752 - val_loss: 0.0451 - val_mae: 0.2942\n",
            "Epoch 66/300\n",
            "30/30 - 1s - loss: 0.0241 - mae: 0.1741 - val_loss: 0.0447 - val_mae: 0.2930\n",
            "Epoch 67/300\n",
            "30/30 - 1s - loss: 0.0238 - mae: 0.1737 - val_loss: 0.0444 - val_mae: 0.2918\n",
            "Epoch 68/300\n",
            "30/30 - 1s - loss: 0.0234 - mae: 0.1726 - val_loss: 0.0440 - val_mae: 0.2903\n",
            "Epoch 69/300\n",
            "30/30 - 1s - loss: 0.0233 - mae: 0.1721 - val_loss: 0.0436 - val_mae: 0.2891\n",
            "Epoch 70/300\n",
            "30/30 - 1s - loss: 0.0232 - mae: 0.1715 - val_loss: 0.0432 - val_mae: 0.2877\n",
            "Epoch 71/300\n",
            "30/30 - 1s - loss: 0.0228 - mae: 0.1696 - val_loss: 0.0428 - val_mae: 0.2865\n",
            "Epoch 72/300\n",
            "30/30 - 1s - loss: 0.0224 - mae: 0.1688 - val_loss: 0.0424 - val_mae: 0.2851\n",
            "Epoch 73/300\n",
            "30/30 - 1s - loss: 0.0227 - mae: 0.1696 - val_loss: 0.0420 - val_mae: 0.2838\n",
            "Epoch 74/300\n",
            "30/30 - 1s - loss: 0.0227 - mae: 0.1695 - val_loss: 0.0417 - val_mae: 0.2826\n",
            "Epoch 75/300\n",
            "30/30 - 1s - loss: 0.0225 - mae: 0.1683 - val_loss: 0.0413 - val_mae: 0.2811\n",
            "Epoch 76/300\n",
            "30/30 - 1s - loss: 0.0221 - mae: 0.1671 - val_loss: 0.0409 - val_mae: 0.2799\n",
            "Epoch 77/300\n",
            "30/30 - 1s - loss: 0.0222 - mae: 0.1666 - val_loss: 0.0405 - val_mae: 0.2785\n",
            "Epoch 78/300\n",
            "30/30 - 1s - loss: 0.0216 - mae: 0.1648 - val_loss: 0.0402 - val_mae: 0.2772\n",
            "Epoch 79/300\n",
            "30/30 - 1s - loss: 0.0214 - mae: 0.1646 - val_loss: 0.0398 - val_mae: 0.2759\n",
            "Epoch 80/300\n",
            "30/30 - 1s - loss: 0.0213 - mae: 0.1634 - val_loss: 0.0394 - val_mae: 0.2743\n",
            "Epoch 81/300\n",
            "30/30 - 1s - loss: 0.0211 - mae: 0.1627 - val_loss: 0.0390 - val_mae: 0.2729\n",
            "Epoch 82/300\n",
            "30/30 - 1s - loss: 0.0205 - mae: 0.1611 - val_loss: 0.0386 - val_mae: 0.2715\n",
            "Epoch 83/300\n",
            "30/30 - 1s - loss: 0.0201 - mae: 0.1593 - val_loss: 0.0382 - val_mae: 0.2701\n",
            "Epoch 84/300\n",
            "30/30 - 1s - loss: 0.0202 - mae: 0.1597 - val_loss: 0.0379 - val_mae: 0.2689\n",
            "Epoch 85/300\n",
            "30/30 - 1s - loss: 0.0198 - mae: 0.1580 - val_loss: 0.0375 - val_mae: 0.2677\n",
            "Epoch 86/300\n",
            "30/30 - 1s - loss: 0.0194 - mae: 0.1562 - val_loss: 0.0371 - val_mae: 0.2662\n",
            "Epoch 87/300\n",
            "30/30 - 1s - loss: 0.0192 - mae: 0.1557 - val_loss: 0.0368 - val_mae: 0.2650\n",
            "Epoch 88/300\n",
            "30/30 - 1s - loss: 0.0190 - mae: 0.1547 - val_loss: 0.0363 - val_mae: 0.2633\n",
            "Epoch 89/300\n",
            "30/30 - 1s - loss: 0.0194 - mae: 0.1556 - val_loss: 0.0359 - val_mae: 0.2617\n",
            "Epoch 90/300\n",
            "30/30 - 1s - loss: 0.0188 - mae: 0.1537 - val_loss: 0.0355 - val_mae: 0.2602\n",
            "Epoch 91/300\n",
            "30/30 - 1s - loss: 0.0182 - mae: 0.1515 - val_loss: 0.0351 - val_mae: 0.2587\n",
            "Epoch 92/300\n",
            "30/30 - 1s - loss: 0.0183 - mae: 0.1516 - val_loss: 0.0347 - val_mae: 0.2570\n",
            "Epoch 93/300\n",
            "30/30 - 1s - loss: 0.0182 - mae: 0.1510 - val_loss: 0.0343 - val_mae: 0.2554\n",
            "Epoch 94/300\n",
            "30/30 - 1s - loss: 0.0181 - mae: 0.1498 - val_loss: 0.0338 - val_mae: 0.2537\n",
            "Epoch 95/300\n",
            "30/30 - 1s - loss: 0.0178 - mae: 0.1485 - val_loss: 0.0334 - val_mae: 0.2522\n",
            "Epoch 96/300\n",
            "30/30 - 1s - loss: 0.0180 - mae: 0.1491 - val_loss: 0.0330 - val_mae: 0.2506\n",
            "Epoch 97/300\n",
            "30/30 - 1s - loss: 0.0175 - mae: 0.1470 - val_loss: 0.0326 - val_mae: 0.2488\n",
            "Epoch 98/300\n",
            "30/30 - 1s - loss: 0.0172 - mae: 0.1457 - val_loss: 0.0322 - val_mae: 0.2472\n",
            "Epoch 99/300\n",
            "30/30 - 1s - loss: 0.0170 - mae: 0.1455 - val_loss: 0.0318 - val_mae: 0.2457\n",
            "Epoch 100/300\n",
            "30/30 - 1s - loss: 0.0164 - mae: 0.1426 - val_loss: 0.0314 - val_mae: 0.2440\n",
            "Epoch 101/300\n",
            "30/30 - 1s - loss: 0.0168 - mae: 0.1431 - val_loss: 0.0309 - val_mae: 0.2421\n",
            "Epoch 102/300\n",
            "30/30 - 1s - loss: 0.0161 - mae: 0.1413 - val_loss: 0.0305 - val_mae: 0.2404\n",
            "Epoch 103/300\n",
            "30/30 - 1s - loss: 0.0160 - mae: 0.1407 - val_loss: 0.0301 - val_mae: 0.2387\n",
            "Epoch 104/300\n",
            "30/30 - 1s - loss: 0.0158 - mae: 0.1392 - val_loss: 0.0297 - val_mae: 0.2371\n",
            "Epoch 105/300\n",
            "30/30 - 1s - loss: 0.0159 - mae: 0.1399 - val_loss: 0.0293 - val_mae: 0.2355\n",
            "Epoch 106/300\n",
            "30/30 - 1s - loss: 0.0157 - mae: 0.1391 - val_loss: 0.0288 - val_mae: 0.2336\n",
            "Epoch 107/300\n",
            "30/30 - 1s - loss: 0.0155 - mae: 0.1380 - val_loss: 0.0284 - val_mae: 0.2316\n",
            "Epoch 108/300\n",
            "30/30 - 1s - loss: 0.0151 - mae: 0.1359 - val_loss: 0.0280 - val_mae: 0.2299\n",
            "Epoch 109/300\n",
            "30/30 - 1s - loss: 0.0148 - mae: 0.1351 - val_loss: 0.0275 - val_mae: 0.2279\n",
            "Epoch 110/300\n",
            "30/30 - 1s - loss: 0.0149 - mae: 0.1353 - val_loss: 0.0271 - val_mae: 0.2261\n",
            "Epoch 111/300\n",
            "30/30 - 1s - loss: 0.0149 - mae: 0.1347 - val_loss: 0.0267 - val_mae: 0.2244\n",
            "Epoch 112/300\n",
            "30/30 - 1s - loss: 0.0142 - mae: 0.1318 - val_loss: 0.0263 - val_mae: 0.2226\n",
            "Epoch 113/300\n",
            "30/30 - 1s - loss: 0.0143 - mae: 0.1318 - val_loss: 0.0259 - val_mae: 0.2208\n",
            "Epoch 114/300\n",
            "30/30 - 1s - loss: 0.0142 - mae: 0.1319 - val_loss: 0.0255 - val_mae: 0.2191\n",
            "Epoch 115/300\n",
            "30/30 - 1s - loss: 0.0138 - mae: 0.1295 - val_loss: 0.0252 - val_mae: 0.2174\n",
            "Epoch 116/300\n",
            "30/30 - 1s - loss: 0.0138 - mae: 0.1297 - val_loss: 0.0247 - val_mae: 0.2155\n",
            "Epoch 117/300\n",
            "30/30 - 1s - loss: 0.0136 - mae: 0.1278 - val_loss: 0.0244 - val_mae: 0.2139\n",
            "Epoch 118/300\n",
            "30/30 - 1s - loss: 0.0135 - mae: 0.1272 - val_loss: 0.0240 - val_mae: 0.2120\n",
            "Epoch 119/300\n",
            "30/30 - 1s - loss: 0.0129 - mae: 0.1246 - val_loss: 0.0236 - val_mae: 0.2102\n",
            "Epoch 120/300\n",
            "30/30 - 1s - loss: 0.0131 - mae: 0.1253 - val_loss: 0.0232 - val_mae: 0.2085\n",
            "Epoch 121/300\n",
            "30/30 - 1s - loss: 0.0126 - mae: 0.1233 - val_loss: 0.0229 - val_mae: 0.2067\n",
            "Epoch 122/300\n",
            "30/30 - 1s - loss: 0.0125 - mae: 0.1231 - val_loss: 0.0225 - val_mae: 0.2050\n",
            "Epoch 123/300\n",
            "30/30 - 1s - loss: 0.0127 - mae: 0.1229 - val_loss: 0.0222 - val_mae: 0.2034\n",
            "Epoch 124/300\n",
            "30/30 - 1s - loss: 0.0123 - mae: 0.1214 - val_loss: 0.0218 - val_mae: 0.2015\n",
            "Epoch 125/300\n",
            "30/30 - 1s - loss: 0.0125 - mae: 0.1218 - val_loss: 0.0214 - val_mae: 0.1995\n",
            "Epoch 126/300\n",
            "30/30 - 1s - loss: 0.0121 - mae: 0.1206 - val_loss: 0.0210 - val_mae: 0.1975\n",
            "Epoch 127/300\n",
            "30/30 - 1s - loss: 0.0118 - mae: 0.1196 - val_loss: 0.0206 - val_mae: 0.1958\n",
            "Epoch 128/300\n",
            "30/30 - 1s - loss: 0.0120 - mae: 0.1188 - val_loss: 0.0203 - val_mae: 0.1942\n",
            "Epoch 129/300\n",
            "30/30 - 1s - loss: 0.0118 - mae: 0.1188 - val_loss: 0.0200 - val_mae: 0.1923\n",
            "Epoch 130/300\n",
            "30/30 - 1s - loss: 0.0113 - mae: 0.1162 - val_loss: 0.0196 - val_mae: 0.1905\n",
            "Epoch 131/300\n",
            "30/30 - 1s - loss: 0.0114 - mae: 0.1171 - val_loss: 0.0192 - val_mae: 0.1886\n",
            "Epoch 132/300\n",
            "30/30 - 1s - loss: 0.0109 - mae: 0.1140 - val_loss: 0.0189 - val_mae: 0.1869\n",
            "Epoch 133/300\n",
            "30/30 - 1s - loss: 0.0112 - mae: 0.1148 - val_loss: 0.0186 - val_mae: 0.1851\n",
            "Epoch 134/300\n",
            "30/30 - 1s - loss: 0.0112 - mae: 0.1143 - val_loss: 0.0183 - val_mae: 0.1835\n",
            "Epoch 135/300\n",
            "30/30 - 1s - loss: 0.0111 - mae: 0.1145 - val_loss: 0.0179 - val_mae: 0.1815\n",
            "Epoch 136/300\n",
            "30/30 - 1s - loss: 0.0108 - mae: 0.1132 - val_loss: 0.0176 - val_mae: 0.1797\n",
            "Epoch 137/300\n",
            "30/30 - 1s - loss: 0.0106 - mae: 0.1121 - val_loss: 0.0172 - val_mae: 0.1779\n",
            "Epoch 138/300\n",
            "30/30 - 1s - loss: 0.0105 - mae: 0.1109 - val_loss: 0.0170 - val_mae: 0.1764\n",
            "Epoch 139/300\n",
            "30/30 - 1s - loss: 0.0102 - mae: 0.1097 - val_loss: 0.0167 - val_mae: 0.1747\n",
            "Epoch 140/300\n",
            "30/30 - 1s - loss: 0.0102 - mae: 0.1092 - val_loss: 0.0164 - val_mae: 0.1731\n",
            "Epoch 141/300\n",
            "30/30 - 1s - loss: 0.0101 - mae: 0.1094 - val_loss: 0.0161 - val_mae: 0.1716\n",
            "Epoch 142/300\n",
            "30/30 - 1s - loss: 0.0099 - mae: 0.1076 - val_loss: 0.0159 - val_mae: 0.1702\n",
            "Epoch 143/300\n",
            "30/30 - 1s - loss: 0.0098 - mae: 0.1066 - val_loss: 0.0156 - val_mae: 0.1685\n",
            "Epoch 144/300\n",
            "30/30 - 1s - loss: 0.0099 - mae: 0.1070 - val_loss: 0.0153 - val_mae: 0.1668\n",
            "Epoch 145/300\n",
            "30/30 - 1s - loss: 0.0095 - mae: 0.1048 - val_loss: 0.0150 - val_mae: 0.1651\n",
            "Epoch 146/300\n",
            "30/30 - 1s - loss: 0.0097 - mae: 0.1057 - val_loss: 0.0148 - val_mae: 0.1637\n",
            "Epoch 147/300\n",
            "30/30 - 1s - loss: 0.0097 - mae: 0.1055 - val_loss: 0.0145 - val_mae: 0.1619\n",
            "Epoch 148/300\n",
            "30/30 - 1s - loss: 0.0094 - mae: 0.1045 - val_loss: 0.0142 - val_mae: 0.1604\n",
            "Epoch 149/300\n",
            "30/30 - 1s - loss: 0.0094 - mae: 0.1037 - val_loss: 0.0139 - val_mae: 0.1586\n",
            "Epoch 150/300\n",
            "30/30 - 1s - loss: 0.0092 - mae: 0.1031 - val_loss: 0.0137 - val_mae: 0.1571\n",
            "Epoch 151/300\n",
            "30/30 - 1s - loss: 0.0089 - mae: 0.1015 - val_loss: 0.0134 - val_mae: 0.1554\n",
            "Epoch 152/300\n",
            "30/30 - 1s - loss: 0.0088 - mae: 0.1008 - val_loss: 0.0132 - val_mae: 0.1538\n",
            "Epoch 153/300\n",
            "30/30 - 1s - loss: 0.0090 - mae: 0.1021 - val_loss: 0.0130 - val_mae: 0.1526\n",
            "Epoch 154/300\n",
            "30/30 - 1s - loss: 0.0089 - mae: 0.1003 - val_loss: 0.0128 - val_mae: 0.1513\n",
            "Epoch 155/300\n",
            "30/30 - 1s - loss: 0.0084 - mae: 0.0981 - val_loss: 0.0125 - val_mae: 0.1495\n",
            "Epoch 156/300\n",
            "30/30 - 1s - loss: 0.0088 - mae: 0.1000 - val_loss: 0.0123 - val_mae: 0.1480\n",
            "Epoch 157/300\n",
            "30/30 - 1s - loss: 0.0085 - mae: 0.0980 - val_loss: 0.0120 - val_mae: 0.1465\n",
            "Epoch 158/300\n",
            "30/30 - 1s - loss: 0.0085 - mae: 0.0981 - val_loss: 0.0118 - val_mae: 0.1453\n",
            "Epoch 159/300\n",
            "30/30 - 1s - loss: 0.0082 - mae: 0.0971 - val_loss: 0.0116 - val_mae: 0.1438\n",
            "Epoch 160/300\n",
            "30/30 - 1s - loss: 0.0084 - mae: 0.0975 - val_loss: 0.0114 - val_mae: 0.1424\n",
            "Epoch 161/300\n",
            "30/30 - 1s - loss: 0.0081 - mae: 0.0959 - val_loss: 0.0112 - val_mae: 0.1409\n",
            "Epoch 162/300\n",
            "30/30 - 1s - loss: 0.0081 - mae: 0.0955 - val_loss: 0.0110 - val_mae: 0.1398\n",
            "Epoch 163/300\n",
            "30/30 - 1s - loss: 0.0080 - mae: 0.0948 - val_loss: 0.0109 - val_mae: 0.1385\n",
            "Epoch 164/300\n",
            "30/30 - 1s - loss: 0.0077 - mae: 0.0934 - val_loss: 0.0107 - val_mae: 0.1370\n",
            "Epoch 165/300\n",
            "30/30 - 1s - loss: 0.0078 - mae: 0.0940 - val_loss: 0.0105 - val_mae: 0.1357\n",
            "Epoch 166/300\n",
            "30/30 - 1s - loss: 0.0077 - mae: 0.0931 - val_loss: 0.0103 - val_mae: 0.1343\n",
            "Epoch 167/300\n",
            "30/30 - 1s - loss: 0.0077 - mae: 0.0925 - val_loss: 0.0101 - val_mae: 0.1331\n",
            "Epoch 168/300\n",
            "30/30 - 1s - loss: 0.0080 - mae: 0.0942 - val_loss: 0.0099 - val_mae: 0.1314\n",
            "Epoch 169/300\n",
            "30/30 - 1s - loss: 0.0075 - mae: 0.0921 - val_loss: 0.0097 - val_mae: 0.1300\n",
            "Epoch 170/300\n",
            "30/30 - 1s - loss: 0.0079 - mae: 0.0931 - val_loss: 0.0095 - val_mae: 0.1289\n",
            "Epoch 171/300\n",
            "30/30 - 1s - loss: 0.0075 - mae: 0.0918 - val_loss: 0.0094 - val_mae: 0.1277\n",
            "Epoch 172/300\n",
            "30/30 - 1s - loss: 0.0074 - mae: 0.0898 - val_loss: 0.0092 - val_mae: 0.1266\n",
            "Epoch 173/300\n",
            "30/30 - 1s - loss: 0.0075 - mae: 0.0914 - val_loss: 0.0091 - val_mae: 0.1254\n",
            "Epoch 174/300\n",
            "30/30 - 1s - loss: 0.0075 - mae: 0.0902 - val_loss: 0.0089 - val_mae: 0.1240\n",
            "Epoch 175/300\n",
            "30/30 - 1s - loss: 0.0074 - mae: 0.0895 - val_loss: 0.0087 - val_mae: 0.1226\n",
            "Epoch 176/300\n",
            "30/30 - 1s - loss: 0.0071 - mae: 0.0894 - val_loss: 0.0086 - val_mae: 0.1216\n",
            "Epoch 177/300\n",
            "30/30 - 1s - loss: 0.0072 - mae: 0.0891 - val_loss: 0.0085 - val_mae: 0.1207\n",
            "Epoch 178/300\n",
            "30/30 - 1s - loss: 0.0069 - mae: 0.0871 - val_loss: 0.0083 - val_mae: 0.1194\n",
            "Epoch 179/300\n",
            "30/30 - 1s - loss: 0.0071 - mae: 0.0872 - val_loss: 0.0082 - val_mae: 0.1182\n",
            "Epoch 180/300\n",
            "30/30 - 1s - loss: 0.0071 - mae: 0.0881 - val_loss: 0.0080 - val_mae: 0.1172\n",
            "Epoch 181/300\n",
            "30/30 - 1s - loss: 0.0070 - mae: 0.0878 - val_loss: 0.0079 - val_mae: 0.1161\n",
            "Epoch 182/300\n",
            "30/30 - 1s - loss: 0.0070 - mae: 0.0872 - val_loss: 0.0077 - val_mae: 0.1148\n",
            "Epoch 183/300\n",
            "30/30 - 1s - loss: 0.0069 - mae: 0.0866 - val_loss: 0.0076 - val_mae: 0.1136\n",
            "Epoch 184/300\n",
            "30/30 - 1s - loss: 0.0068 - mae: 0.0865 - val_loss: 0.0075 - val_mae: 0.1127\n",
            "Epoch 185/300\n",
            "30/30 - 1s - loss: 0.0070 - mae: 0.0867 - val_loss: 0.0074 - val_mae: 0.1116\n",
            "Epoch 186/300\n",
            "30/30 - 1s - loss: 0.0067 - mae: 0.0847 - val_loss: 0.0072 - val_mae: 0.1103\n",
            "Epoch 187/300\n",
            "30/30 - 1s - loss: 0.0067 - mae: 0.0849 - val_loss: 0.0071 - val_mae: 0.1092\n",
            "Epoch 188/300\n",
            "30/30 - 1s - loss: 0.0067 - mae: 0.0852 - val_loss: 0.0070 - val_mae: 0.1084\n",
            "Epoch 189/300\n",
            "30/30 - 1s - loss: 0.0067 - mae: 0.0858 - val_loss: 0.0069 - val_mae: 0.1075\n",
            "Epoch 190/300\n",
            "30/30 - 1s - loss: 0.0066 - mae: 0.0842 - val_loss: 0.0068 - val_mae: 0.1066\n",
            "Epoch 191/300\n",
            "30/30 - 1s - loss: 0.0067 - mae: 0.0840 - val_loss: 0.0067 - val_mae: 0.1055\n",
            "Epoch 192/300\n",
            "30/30 - 1s - loss: 0.0062 - mae: 0.0818 - val_loss: 0.0065 - val_mae: 0.1044\n",
            "Epoch 193/300\n",
            "30/30 - 1s - loss: 0.0064 - mae: 0.0824 - val_loss: 0.0064 - val_mae: 0.1035\n",
            "Epoch 194/300\n",
            "30/30 - 1s - loss: 0.0064 - mae: 0.0823 - val_loss: 0.0063 - val_mae: 0.1024\n",
            "Epoch 195/300\n",
            "30/30 - 1s - loss: 0.0062 - mae: 0.0819 - val_loss: 0.0062 - val_mae: 0.1017\n",
            "Epoch 196/300\n",
            "30/30 - 1s - loss: 0.0062 - mae: 0.0821 - val_loss: 0.0062 - val_mae: 0.1009\n",
            "Epoch 197/300\n",
            "30/30 - 1s - loss: 0.0061 - mae: 0.0808 - val_loss: 0.0061 - val_mae: 0.1000\n",
            "Epoch 198/300\n",
            "30/30 - 1s - loss: 0.0061 - mae: 0.0815 - val_loss: 0.0060 - val_mae: 0.0994\n",
            "Epoch 199/300\n",
            "30/30 - 1s - loss: 0.0061 - mae: 0.0810 - val_loss: 0.0059 - val_mae: 0.0986\n",
            "Epoch 200/300\n",
            "30/30 - 1s - loss: 0.0062 - mae: 0.0811 - val_loss: 0.0058 - val_mae: 0.0975\n",
            "Epoch 201/300\n",
            "30/30 - 1s - loss: 0.0060 - mae: 0.0797 - val_loss: 0.0057 - val_mae: 0.0967\n",
            "Epoch 202/300\n",
            "30/30 - 1s - loss: 0.0062 - mae: 0.0809 - val_loss: 0.0056 - val_mae: 0.0958\n",
            "Epoch 203/300\n",
            "30/30 - 1s - loss: 0.0058 - mae: 0.0796 - val_loss: 0.0055 - val_mae: 0.0948\n",
            "Epoch 204/300\n",
            "30/30 - 1s - loss: 0.0062 - mae: 0.0809 - val_loss: 0.0054 - val_mae: 0.0939\n",
            "Epoch 205/300\n",
            "30/30 - 1s - loss: 0.0058 - mae: 0.0788 - val_loss: 0.0054 - val_mae: 0.0931\n",
            "Epoch 206/300\n",
            "30/30 - 1s - loss: 0.0060 - mae: 0.0791 - val_loss: 0.0053 - val_mae: 0.0925\n",
            "Epoch 207/300\n",
            "30/30 - 1s - loss: 0.0060 - mae: 0.0793 - val_loss: 0.0052 - val_mae: 0.0916\n",
            "Epoch 208/300\n",
            "30/30 - 1s - loss: 0.0057 - mae: 0.0779 - val_loss: 0.0051 - val_mae: 0.0910\n",
            "Epoch 209/300\n",
            "30/30 - 1s - loss: 0.0058 - mae: 0.0782 - val_loss: 0.0051 - val_mae: 0.0900\n",
            "Epoch 210/300\n",
            "30/30 - 1s - loss: 0.0057 - mae: 0.0780 - val_loss: 0.0050 - val_mae: 0.0893\n",
            "\n",
            "Mean Absolute Error < 9% dari data yang sudah dinormalisasi!\n",
            "\n",
            "mae = 7.795649021863937% val_mae = 8.931262046098709%\n"
          ],
          "name": "stdout"
        }
      ]
    },
    {
      "cell_type": "markdown",
      "metadata": {
        "id": "5oHuqML_njw-"
      },
      "source": [
        "Nilai Mean Absolute Error :\n",
        "\n",
        "training mae = 7.8% (<10%)\n",
        "\n",
        "validation mae = 8.9% (<10%) \n",
        "\n",
        "sesuai **kriteria 6**"
      ]
    },
    {
      "cell_type": "code",
      "metadata": {
        "colab": {
          "base_uri": "https://localhost:8080/"
        },
        "id": "I6bmpX81eDxL",
        "outputId": "ad0d7a9b-6e6f-4261-f892-f0e9aaae61a9"
      },
      "source": [
        "model.summary()"
      ],
      "execution_count": 16,
      "outputs": [
        {
          "output_type": "stream",
          "text": [
            "Model: \"sequential\"\n",
            "_________________________________________________________________\n",
            "Layer (type)                 Output Shape              Param #   \n",
            "=================================================================\n",
            "lstm (LSTM)                  (None, None, 64)          16896     \n",
            "_________________________________________________________________\n",
            "dropout (Dropout)            (None, None, 64)          0         \n",
            "_________________________________________________________________\n",
            "lstm_1 (LSTM)                (None, 64)                33024     \n",
            "_________________________________________________________________\n",
            "dense (Dense)                (None, 32)                2080      \n",
            "_________________________________________________________________\n",
            "dense_1 (Dense)              (None, 32)                1056      \n",
            "_________________________________________________________________\n",
            "dropout_1 (Dropout)          (None, 32)                0         \n",
            "_________________________________________________________________\n",
            "dense_2 (Dense)              (None, 1)                 33        \n",
            "=================================================================\n",
            "Total params: 53,089\n",
            "Trainable params: 53,089\n",
            "Non-trainable params: 0\n",
            "_________________________________________________________________\n"
          ],
          "name": "stdout"
        }
      ]
    },
    {
      "cell_type": "code",
      "metadata": {
        "colab": {
          "base_uri": "https://localhost:8080/",
          "height": 625
        },
        "id": "xaTWMJznG_gv",
        "outputId": "e4c99bab-49b7-4ead-d32d-e6c48db82aa2"
      },
      "source": [
        "# Plot MAE\n",
        "plt.plot(history.history['mae'])\n",
        "plt.plot(history.history['val_mae'])\n",
        "plt.title('Mean Absolut Error Model')\n",
        "plt.ylabel('Mae')\n",
        "plt.xlabel('epoch')\n",
        "plt.legend(['Train', 'Val'], loc='upper left')\n",
        "plt.show()\n",
        "print('\\n\\n')\n",
        "# Plot Loss\n",
        "plt.plot(history.history['loss'])\n",
        "plt.plot(history.history['val_loss'])\n",
        "plt.title('Loss Model')\n",
        "plt.ylabel('loss')\n",
        "plt.xlabel('epoch')\n",
        "plt.legend(['Train', 'Val'], loc='upper left')\n",
        "plt.show()"
      ],
      "execution_count": 17,
      "outputs": [
        {
          "output_type": "display_data",
          "data": {
            "image/png": "[encoded data removed]",
            "text/plain": [
              "<Figure size 432x288 with 1 Axes>"
            ]
          },
          "metadata": {
            "tags": [],
            "needs_background": "light"
          }
        },
        {
          "output_type": "stream",
          "text": [
            "\n",
            "\n",
            "\n"
          ],
          "name": "stdout"
        },
        {
          "output_type": "display_data",
          "data": {
            "image/png": "[encoded data removed]",
            "text/plain": [
              "<Figure size 432x288 with 1 Axes>"
            ]
          },
          "metadata": {
            "tags": [],
            "needs_background": "light"
          }
        }
      ]
    }
  ]
}